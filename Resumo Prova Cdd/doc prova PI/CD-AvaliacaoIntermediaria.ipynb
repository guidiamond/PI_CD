{
 "cells": [
  {
   "cell_type": "markdown",
   "metadata": {},
   "source": [
    "# Ciência dos Dados - Avaliação Intermediária - 28/Set/2017\n",
    "\n",
    "### Nome:"
   ]
  },
  {
   "cell_type": "code",
   "execution_count": 9,
   "metadata": {
    "collapsed": true
   },
   "outputs": [],
   "source": [
    "%matplotlib inline\n",
    "\n",
    "import pandas as pd\n",
    "import numpy as np\n",
    "import matplotlib.pyplot as plt\n",
    "from scipy.stats import norm\n",
    "from scipy import stats\n",
    "from numpy import mean, var, arange\n",
    "from math import *"
   ]
  },
  {
   "cell_type": "code",
   "execution_count": 10,
   "metadata": {
    "collapsed": true
   },
   "outputs": [],
   "source": [
    "data2013 = pd.read_csv(\"maratona2013.csv\")"
   ]
  },
  {
   "cell_type": "markdown",
   "metadata": {},
   "source": [
    "# Maratona de 2013\n",
    "\n",
    "Vamos trabalhar com dados de uma Maratona acontecida em 2013. O dataset contém as informações dos participantes, segundo o dicionário abaixo.\n",
    "\n",
    "#### Dicionário de dados"
   ]
  },
  {
   "cell_type": "markdown",
   "metadata": {},
   "source": [
    "|Coluna | Descrição|\n",
    "|:---|---:|\n",
    "| 25k | Tempo para completar 25k |\n",
    "| age | idade |\n",
    "| name | nome do corredor |\n",
    "| division | categoria ou divisão do corredor |\n",
    "| 10k | tempo para completar 10k |\n",
    "| gender | gênero |\n",
    "| half | tempo para meia maratona |\n",
    "| official | tempo final oficial |\n",
    "| bib | ? |\n",
    "| ctz | Cidadania do corredor |\n",
    "| country | em que país vive |\n",
    "| overall | Colocação geral |\n",
    "| pace | ritmo |\n",
    "| state | estado de residência |\n"
   ]
  },
  {
   "cell_type": "markdown",
   "metadata": {},
   "source": [
    "### Q1. Histograma\n",
    "\n",
    "(0,8 Ponto) Plote um histograma normalizado do tempo oficial de término da corrida\n",
    "\n",
    "Plote uma função de densidade de probabilidade normal sobre o histograma. Tome uma decisão sobre como chegar à média e à variância"
   ]
  },
  {
   "cell_type": "code",
   "execution_count": 108,
   "metadata": {},
   "outputs": [
    {
     "data": {
      "text/plain": [
       "[<matplotlib.lines.Line2D at 0x7fe7448f9ac8>]"
      ]
     },
     "execution_count": 108,
     "metadata": {},
     "output_type": "execute_result"
    },
    {
     "data": {
      "image/png": "[encoded data removed]",
      "text/plain": [
       "<matplotlib.figure.Figure at 0x7fe744695f98>"
      ]
     },
     "metadata": {},
     "output_type": "display_data"
    }
   ],
   "source": [
    "x = sorted(data2013.official)\n",
    "m = data2013.official.mean()\n",
    "dp = data2013.official.std()\n",
    "plot = data2013.official.plot.hist(title='Probabilidade dos Tempos oficiais', alpha=0.7,label='tempo', normed=1)\n",
    "plt.ylabel('Densidade')\n",
    "plt.xlabel('Tempo oficial')\n",
    "plt.legend()\n",
    "plt.plot(x, stats.norm.pdf(x, loc=m, scale=dp), lw=3, alpha=0.6)"
   ]
  },
  {
   "cell_type": "markdown",
   "metadata": {},
   "source": [
    "(0,4 Ponto) Responda:\n",
    "* Em sua opinião (ainda sem um método de verificação mais potente) a curva parece normal?\n",
    "* Como você faria para se assegurar com mais certeza se é ou não uma normal? Não é preciso implementar."
   ]
  },
  {
   "cell_type": "markdown",
   "metadata": {},
   "source": [
    "R.: A curva parece normal, pois o histograma formado pelos dados parece com o formato dessa curva. Isso é visível pela presença de um pico que se localiza próximo à metade da aplitude do gráfico. Eu calcularia a média e a mediana e me certificaria de serem próximas."
   ]
  },
  {
   "cell_type": "markdown",
   "metadata": {},
   "source": [
    "### Q2. Probabilidade\n",
    "\n",
    "#### Q2.1. Se selecionarmos um competidor a esmo, qual a probabilidade dele ter feito mais de 220 minutos?\n",
    "\n",
    "a) (0,3 Ponto) Resolva usando os dados."
   ]
  },
  {
   "cell_type": "code",
   "execution_count": 109,
   "metadata": {},
   "outputs": [
    {
     "data": {
      "text/plain": [
       "0.3247339767384311"
      ]
     },
     "execution_count": 109,
     "metadata": {},
     "output_type": "execute_result"
    }
   ],
   "source": [
    "contagem = 0\n",
    "for i in x:\n",
    "    if i > 220:\n",
    "        contagem += 1\n",
    "pro220 = contagem/len(x)\n",
    "pro220"
   ]
  },
  {
   "cell_type": "markdown",
   "metadata": {},
   "source": [
    "b) (0,3 Ponto) Assumindo que a distribuição do tempo final oficial seja uma normal, resolva usando a função cdf(). "
   ]
  },
  {
   "cell_type": "code",
   "execution_count": 110,
   "metadata": {},
   "outputs": [
    {
     "data": {
      "text/plain": [
       "0.30900142479819459"
      ]
     },
     "execution_count": 110,
     "metadata": {},
     "output_type": "execute_result"
    }
   ],
   "source": [
    "1 - stats.norm.cdf(220, loc=m, scale=dp)"
   ]
  },
  {
   "cell_type": "markdown",
   "metadata": {},
   "source": [
    "#### Q2.2. Apenas os 20% mais rápidos estarão classificados para o mundial, qual seria o tempo mínimo necessário para obter o índice?\n",
    "a) (0,3 Ponto) Resolva usando os dados."
   ]
  },
  {
   "cell_type": "code",
   "execution_count": 111,
   "metadata": {},
   "outputs": [
    {
     "data": {
      "text/plain": [
       "284.23000000000002"
      ]
     },
     "execution_count": 111,
     "metadata": {},
     "output_type": "execute_result"
    }
   ],
   "source": [
    "p20 = len(x)*0.2\n",
    "p80 = len(x)*0.8\n",
    "\n",
    "for i in range(len(x)):\n",
    "    if i > p80:\n",
    "        tempmin = x[i]\n",
    "tempmin"
   ]
  },
  {
   "cell_type": "markdown",
   "metadata": {},
   "source": [
    "b) (0,3 Ponto) Assumindo que a distribuição do tempo final oficial seja uma normal, resolva usando a função ppf(). "
   ]
  },
  {
   "cell_type": "code",
   "execution_count": 112,
   "metadata": {},
   "outputs": [
    {
     "data": {
      "text/plain": [
       "228.14259538896101"
      ]
     },
     "execution_count": 112,
     "metadata": {},
     "output_type": "execute_result"
    }
   ],
   "source": [
    "stats.norm.ppf(0.8, loc=m, scale=dp)"
   ]
  },
  {
   "cell_type": "markdown",
   "metadata": {},
   "source": [
    "#### Q2.3 (0,2 Ponto) Explique as diferenças entre os resultados teóricos (modelo) e amostrais (dados) nas questões Q1.1 e Q.2."
   ]
  },
  {
   "cell_type": "markdown",
   "metadata": {
    "collapsed": true
   },
   "source": [
    "R.: As diferenças acontecem, pois os modelos, apesar de nos ajudarem a prever e entender os acontecimentos reais, dificilmente são exatamentes iguais aos dados coletados. A realidade pode seguir certos padrões, mas nem sempre eles são perfeitos e, muitas vezes a coleta de dados fica submetida à erros humanos."
   ]
  },
  {
   "cell_type": "markdown",
   "metadata": {},
   "source": [
    "### Q3. Probabilidade Condicional\n",
    "\n",
    "(0,8 Ponto) Dado um participante escolhido no grupo da terceira idade (acima de 60 anos), qual a probabildade dele ter mais de 75 anos?\n",
    "\n",
    "Obs: você pode fazer a conta manualmente com os dados da questão anterior ou usar os dados brutos originais. - ignorar"
   ]
  },
  {
   "cell_type": "code",
   "execution_count": 113,
   "metadata": {},
   "outputs": [
    {
     "data": {
      "text/plain": [
       "0.004273504273504274"
      ]
     },
     "execution_count": 113,
     "metadata": {},
     "output_type": "execute_result"
    }
   ],
   "source": [
    "y = data2013[data2013.age >= 60]\n",
    "y = sorted(y.age)\n",
    "mais75 = 0\n",
    "for i in y:\n",
    "    if i > 75:\n",
    "        mais75 += 1\n",
    "pmais75 = mais75/len(y)\n",
    "pmais75"
   ]
  },
  {
   "cell_type": "markdown",
   "metadata": {},
   "source": [
    "### Q4. Análise Exploratória\n",
    "\n",
    "(1,3 Ponto) Como você verificaria a seguinte afirmação: *Pessoas com mais idade tendem a ir mais devagar*?\n",
    "\n",
    "Obs.: Se ajudar, assuma uma idade a partir da qual uma pessoa tem *mais idade* e também assuma um tempo de corrida que quer dizer *mais devagar*"
   ]
  },
  {
   "cell_type": "code",
   "execution_count": 114,
   "metadata": {
    "scrolled": true
   },
   "outputs": [
    {
     "name": "stdout",
     "output_type": "stream",
     "text": [
      "A probabilidade de uma pessoal com mais idade ser mais devagar é: 0.15672215108834828\n",
      "A probabilidade de uma pessoal com menos idade ser mais devagar é: 0.05563259645974386\n",
      "A probabilidade de uma pessoal com mais idade ser mais rápida é: 0.8432778489116517\n",
      "A probabilidade de uma pessoal com menos idade ser mais rápida é: 0.9443674035402562\n",
      "ou, seja, uma pessoa com menos idade tem probabilidade maior de ser mais devagar que uma pessoa com menos idade e o inverso se aplica em relação à ser mais rápido.\n"
     ]
    }
   ],
   "source": [
    "data2013.loc[(data2013.age >= 50),'qidade'] = 'mais idade'\n",
    "data2013.loc[(data2013.age < 50),'qidade'] = 'menos idade'\n",
    "data2013.loc[(data2013.official >= 240),'tempo'] = 'mais devagar'\n",
    "data2013.loc[(data2013.official < 240),'tempo'] = 'mais rapido'\n",
    "\n",
    "Md_Maii = len(data2013[(data2013.qidade == 'mais idade') & (data2013.tempo == 'mais devagar')])/len(data2013[data2013.qidade == 'mais idade'])\n",
    "Md_Meni = len(data2013[(data2013.qidade == 'menos idade') & (data2013.tempo == 'mais devagar')])/len(data2013[data2013.qidade == 'menos idade'])\n",
    "Mr_Maii = len(data2013[(data2013.qidade == 'mais idade') & (data2013.tempo == 'mais rapido')])/len(data2013[data2013.qidade == 'mais idade'])\n",
    "Mr_Meni = len(data2013[(data2013.qidade == 'menos idade') & (data2013.tempo == 'mais rapido')])/len(data2013[data2013.qidade == 'menos idade'])\n",
    "print('A probabilidade de uma pessoal com mais idade ser mais devagar é: {0}'.format(Md_Maii))\n",
    "print('A probabilidade de uma pessoal com menos idade ser mais devagar é: {0}'.format(Md_Meni))\n",
    "print('A probabilidade de uma pessoal com mais idade ser mais rápida é: {0}'.format(Mr_Maii))\n",
    "print('A probabilidade de uma pessoal com menos idade ser mais rápida é: {0}'.format(Mr_Meni))\n",
    "print('ou, seja, uma pessoa com menos idade tem probabilidade maior de ser mais devagar que uma pessoa com menos idade e o inverso se aplica em relação à ser mais rápido.')"
   ]
  },
  {
   "cell_type": "markdown",
   "metadata": {},
   "source": [
    "### Q5. Teorema de Bayes\n",
    "\n",
    "(1,3 Ponto) Dado um competidor do Japão (JPN) e com idade superior a 60 anos, é mais provável que seja homem ou mulher?\n",
    "\n",
    "$$P(Homem\\,|\\,Japão\\,\\cap\\,idade>60) > P(Mulher\\,|\\,Japão\\,\\cap\\,idade>60)?$$\n",
    "\n",
    "Caso necessário, pode assumir independência entre idade e país."
   ]
  },
  {
   "cell_type": "code",
   "execution_count": 115,
   "metadata": {},
   "outputs": [
    {
     "data": {
      "text/plain": [
       "0.5689185845087851"
      ]
     },
     "execution_count": 115,
     "metadata": {},
     "output_type": "execute_result"
    }
   ],
   "source": [
    "PJ60 = len(data2013[((data2013.country == 'JPN') & (data2013.age > 60))])/len(data2013)\n",
    "PH = len(data2013[data2013.gender == 'M'])/len(data2013)\n",
    "PM = len(data2013[data2013.gender == 'F'])/len(data2013)\n",
    "PJ60H = len(data2013[((data2013.gender == 'M') & (data2013.country == 'JPN') & (data2013.age > 60))])/len(data2013)\n",
    "PJ60M = len(data2013[((data2013.gender == 'F') & (data2013.country == 'JPN') & (data2013.age > 60))])/len(data2013)\n",
    "PHJ60 = PJ60H*PH/PJ60\n",
    "PMJ60 = PJ60M*PM/PJ60\n",
    "PHJ60"
   ]
  },
  {
   "cell_type": "markdown",
   "metadata": {},
   "source": [
    "### Q6. Análise Exploratória\n",
    "\n",
    "(1,0 Ponto) Quem é a mulher mais rápida? Embasar a resposta com código Python, busca manual não será aceita.\n",
    "\n",
    "Obs: É sabido que não há empate entre as participantes."
   ]
  },
  {
   "cell_type": "code",
   "execution_count": 116,
   "metadata": {},
   "outputs": [
    {
     "name": "stdout",
     "output_type": "stream",
     "text": [
      "A corredora mais rápida é McFadden, Tatyana\n"
     ]
    }
   ],
   "source": [
    "rapida = 1000\n",
    "nome = ''\n",
    "nomes = data2013.name\n",
    "genero = data2013.gender\n",
    "tempo = data2013.official\n",
    "\n",
    "for i in range(len(genero)):\n",
    "    if genero[i] == 'F':\n",
    "        if tempo[i] < rapida:\n",
    "            rapida = tempo[i]\n",
    "            nome = nomes[i]\n",
    "print('A corredora mais rápida é {0}'.format(nome))\n",
    "\n"
   ]
  },
  {
   "cell_type": "code",
   "execution_count": null,
   "metadata": {
    "collapsed": true
   },
   "outputs": [],
   "source": []
  }
 ],
 "metadata": {
  "kernelspec": {
   "display_name": "Python 3",
   "language": "python",
   "name": "python3"
  },
  "language_info": {
   "codemirror_mode": {
    "name": "ipython",
    "version": 3
   },
   "file_extension": ".py",
   "mimetype": "text/x-python",
   "name": "python",
   "nbconvert_exporter": "python",
   "pygments_lexer": "ipython3",
   "version": "3.6.4"
  }
 },
 "nbformat": 4,
 "nbformat_minor": 2
}
