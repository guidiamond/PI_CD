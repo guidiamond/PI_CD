{
 "cells": [
  {
   "cell_type": "markdown",
   "metadata": {},
   "source": [
    "# aula 5\n",
    "saber ler hist e boxplot\n",
    "\n",
    "fazer boxplot e hist\n",
    "\n",
    "long_d = df.Longitude.describe() aps5-Q.5\n",
    "\n",
    "# correlaçao\n",
    "scatter = plt.scatter(df['Magnitude Error'], df['Depth'])\n",
    "\n",
    "plt.show(scatter)\n",
    "\n",
    "corr = df['Magnitude Error'].corr(df[\"Depth\"])\n",
    "\n",
    "print('a correlaçao entre as variaveis é de {0}'.format(corr))\n",
    "\n",
    "# aula 6\n",
    "\n",
    "covariancia = correlaçao de -1 a 1 de variaveis quantitativas \n",
    "\n",
    "corr = df['Magnitude Error'].corr(df[\"Depth\"])\n",
    "\n",
    "print('a correlaçao entre as variaveis é de {0}'.format(corr))\n",
    "\n",
    "# aula 9\n",
    "\n",
    "# binomial\n",
    "\n",
    "se usa quando por exemplo, quando se tem uma amostra, pergunta-se a probabilidade de x amostras participarem do evento, dada uma certa taxa\n",
    "\n",
    "distr.binom(y;n;p;0)\n",
    "\n",
    "distribuiçao binomial\\n\n",
    "\n",
    "P(Y=y) = stats.binom.pmf(y,n,p)\n",
    "\n",
    "P(Y>=y) = stats.binom.cdf(y,n,p)\n",
    "\n",
    "E(y), Var(X) = stats.binom.stats(n;p; moments = 'mv')\n",
    "\n",
    "P(Y<=y) = 1- P(Y<y)\n",
    "\n",
    "Var(X) = n*p*(1-p)\n"
   ]
  },
  {
   "cell_type": "markdown",
   "metadata": {},
   "source": [
    "## Para achar mu e sigma\n",
    "fit = expon.fit(df.Magnitude)\n",
    "\n",
    "mu = fit[0]\n",
    "\n",
    "sigma = fit[1]\n",
    "\n",
    "print(mu)\n",
    "\n",
    "print(sigma)"
   ]
  },
  {
   "cell_type": "markdown",
   "metadata": {},
   "source": [
    "## Poisson\n",
    "para fazer poisson:\n",
    "\n",
    "x = 0\n",
    "\n",
    "lamba = 5\n",
    "\n",
    "p_0 = stats.poisson.pmf(x,lamba)\n",
    "\n",
    "p_0\n",
    "\n",
    "## aula 12\n"
   ]
  },
  {
   "cell_type": "code",
   "execution_count": 13,
   "metadata": {},
   "outputs": [],
   "source": [
    "%matplotlib inline\n",
    "import pandas as pd\n",
    "import numpy as np\n",
    "import matplotlib.pyplot as plt\n",
    "from scipy.stats import expon\n",
    "import scipy.stats as stats\n",
    "from scipy.stats import binom\n",
    "from scipy.stats import poisson"
   ]
  },
  {
   "cell_type": "code",
   "execution_count": 47,
   "metadata": {},
   "outputs": [
    {
     "name": "stdout",
     "output_type": "stream",
     "text": [
      "0.0418591492526\n",
      "2.10492601127e-09\n"
     ]
    }
   ],
   "source": [
    "#distribuição binomial aula 9\n",
    "n = 50\n",
    "p = 0.5\n",
    "bin1 = stats.binom.pmf(30,n,p)\n",
    "print(bin1)\n",
    "\n",
    "bin3 = stats.binom.cdf(6,n,p,1) # isso é a soma dos binomios menores que três\n",
    "print(bin3)"
   ]
  },
  {
   "cell_type": "code",
   "execution_count": 24,
   "metadata": {},
   "outputs": [
    {
     "data": {
      "text/plain": [
       "0.006737946999085467"
      ]
     },
     "execution_count": 24,
     "metadata": {},
     "output_type": "execute_result"
    }
   ],
   "source": [
    "x = 0\n",
    "lamba = 5\n",
    "p_0 = stats.poisson.pmf(x,lamba)\n",
    "p_0"
   ]
  },
  {
   "cell_type": "markdown",
   "metadata": {
    "collapsed": true
   },
   "source": [
    "## Como fazer pdf de exponencial ou normal\n",
    "x=sorted(stats.norm.rvs(size=10000, loc=mu, scale=sigma)) cria valores aleatórios dentro de um scale dados uma média e e uma variancia\n",
    "\n",
    "sigma = desvio padrao\n",
    "\n",
    "plt.plot(x, stats.norm.pdf(x, loc=mu, scale=sigma), lw=3, alpha=0.6)  Pode ser norm ou expon \n",
    "\n",
    "stats.norm.cdf(20, loc=mu, scale=sigma)  integral pode ser norm ou expon \n",
    "\n",
    "stats.norm.ppf(0.95, loc=mu, scale=sigma)  recebe a porcentagem e retorna o valor daquele ponto #pode ser norm ou expon \n",
    "\n",
    "lw = grossura da linha\n",
    "\n",
    "alpha = opacidade da linha"
   ]
  },
  {
   "cell_type": "markdown",
   "metadata": {},
   "source": [
    "## como fazer probabilidade de algo dado que algo aconteceu\n",
    "\n",
    "r = df.groupby('hemisfério').size().div(len(df))\n",
    "\n",
    "df.groupby(['Type', 'hemisfério']).size().div(len(df)).div(r,axis=0,level='hemisfério')"
   ]
  },
  {
   "cell_type": "markdown",
   "metadata": {},
   "source": [
    "## Covariancia e correlação\n",
    "covariancia = np.cov(Mundo.X3,Mundo.X4)[0,1])  Ou este comando: Mundo.X3.cov(Mundo.X4)\n",
    "\n",
    "correlação = np.corrcoef(Mundo.X3,Mundo.X4)[0,1])  Ou este comando: Mundo.X3.corr(Mundo.X4)\n",
    "\n",
    "$$\\hat{y} = ax + b$$\n",
    "\n",
    "Ainda sem entrar em detalhes, esses coeficientes devem ser obtidos a partir dos dados utilizando algumas medidas-resumo pelas seguintes expressões:\n",
    "\n",
    "$$a = \\frac{\\mathrm{Cov}(X, Y)}{\\mathrm{Var}(X)}$$\n",
    "\n",
    "$$b = \\overline{y} - a\\overline{x}$$\n",
    "\n",
    "a = Mundo.X3.cov(Mundo.X4) / Mundo.X3.var()\n",
    "\n",
    "b = Mundo.X4.mean() - a*Mundo.X3.mean()"
   ]
  },
  {
   "cell_type": "markdown",
   "metadata": {},
   "source": [
    "## Q-Q plot\n",
    "from scipy import stats\n",
    "\n",
    "passo 1: ordenar dados (comando \"sorted\" - sorted(amostra))\n",
    "\n",
    "passo 2: percentis_observados = [percentileofscore(amostra, n) for n in amostra] # achando os percentuais da uma amostra\n",
    " \n",
    "    obs: np.percentile(amostra,numero) # retorna o percentual do numero dado \n",
    "\n",
    "passo 3: percentis_y = [] \n",
    "         \n",
    "         for p in percentis_observados: \n",
    "\n",
    "            percentis_y.append(np.percentile(amostra2,p)\n",
    "\n",
    "\n",
    "passo 3: plt.plot(percentis_observados, percentis_y)"
   ]
  },
  {
   "cell_type": "markdown",
   "metadata": {},
   "source": [
    "## frequencia relativa\n",
    "freq = []\n",
    "\n",
    "for i in range(len(df)):\n",
    "   \n",
    "   freq.append((i+0.5)/len(df))    \n",
    "\n",
    "A frequência relativa é definida como a razão entre a frequência absoluta e o número total de observações."
   ]
  },
  {
   "cell_type": "code",
   "execution_count": null,
   "metadata": {
    "collapsed": true
   },
   "outputs": [],
   "source": []
  }
 ],
 "metadata": {
  "kernelspec": {
   "display_name": "Python 3",
   "language": "python",
   "name": "python3"
  },
  "language_info": {
   "codemirror_mode": {
    "name": "ipython",
    "version": 3
   },
   "file_extension": ".py",
   "mimetype": "text/x-python",
   "name": "python",
   "nbconvert_exporter": "python",
   "pygments_lexer": "ipython3",
   "version": "3.6.4"
  }
 },
 "nbformat": 4,
 "nbformat_minor": 2
}
