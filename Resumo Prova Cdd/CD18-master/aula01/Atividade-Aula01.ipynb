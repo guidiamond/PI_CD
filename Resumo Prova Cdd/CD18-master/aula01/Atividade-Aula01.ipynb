{
 "cells": [
  {
   "cell_type": "code",
   "execution_count": null,
   "metadata": {},
   "outputs": [],
   "source": [
    "%matplotlib inline\n",
    "import pandas as pd\n",
    "import matplotlib.pyplot as plt\n",
    "import numpy as np"
   ]
  },
  {
   "cell_type": "markdown",
   "metadata": {},
   "source": [
    "# Ciência dos Dados - Aula 01 - Atividade Exploratória\n",
    "\n",
    "A biblioteca **pandas** é um conjunto de funções para o Python para trabalhar com Data Science. Ele permite além de abrir diversos tipos de arquivos, trabalhar também com o ferramental descritivo para responder perguntas sobre seus dados.\n",
    "\n",
    "Vamos começar abrindo um arquivo no formato Excel. Os dados contem informações sobre países disponíveis em um dos mais conhecidos databases da Internet: World Bank.\n",
    "\n",
    "Primeiramente abrimos o arquivo e armazenamos em uma variável (verifique se o arquivo XLSX está na mesma pasta):"
   ]
  },
  {
   "cell_type": "markdown",
   "metadata": {},
   "source": [
    "** Nome:** "
   ]
  },
  {
   "cell_type": "code",
   "execution_count": null,
   "metadata": {},
   "outputs": [],
   "source": [
    "dados = pd.read_excel('WorldBank.xlsx')"
   ]
  },
  {
   "cell_type": "markdown",
   "metadata": {},
   "source": [
    "Será que funcionou? Vamos usar o método ``head()`` para olhar as primeiras linhas do DataFrame:"
   ]
  },
  {
   "cell_type": "code",
   "execution_count": null,
   "metadata": {},
   "outputs": [],
   "source": [
    "dados.head()"
   ]
  },
  {
   "cell_type": "markdown",
   "metadata": {},
   "source": [
    "`dados` é uma variável do tipo `DataFrame`, tipo padrão usado no pandas para representar uma tabela.\n",
    "\n",
    "Para ver o final da lista, podemos usar o método ``tail()``. Tanto ``head()`` quanto ``tail()`` podem receber como argumento o número de linhas a serem exibidas:"
   ]
  },
  {
   "cell_type": "code",
   "execution_count": null,
   "metadata": {},
   "outputs": [],
   "source": [
    "dados.tail(15)"
   ]
  },
  {
   "cell_type": "markdown",
   "metadata": {},
   "source": [
    "O resultado acima não parece muito útil para visualizar os dados. Vamos ordernar os dados pela população usando o\n",
    "método `sort_values()`, que retorna um novo DataFrame ordenado pela coluna de sua escolha. Por exemplo:"
   ]
  },
  {
   "cell_type": "code",
   "execution_count": null,
   "metadata": {},
   "outputs": [],
   "source": [
    "dados.sort_values(by='Population').head()"
   ]
  },
  {
   "cell_type": "markdown",
   "metadata": {},
   "source": [
    "Agora sabemos quem são os países mais pobres presentes nos dados.\n",
    "\n",
    "**Atividade 1:** Liste os 10 países mais ricos (em GDP per capita)"
   ]
  },
  {
   "cell_type": "code",
   "execution_count": null,
   "metadata": {},
   "outputs": [],
   "source": []
  },
  {
   "cell_type": "markdown",
   "metadata": {},
   "source": [
    "A coluna 'region' indica a região geográfica à qual o país pertence. Vamos ver quantos países tem em cada região:"
   ]
  },
  {
   "cell_type": "code",
   "execution_count": null,
   "metadata": {},
   "outputs": [],
   "source": [
    "dados['region']"
   ]
  },
  {
   "cell_type": "markdown",
   "metadata": {},
   "source": [
    "Assim fica dificil entender como os paises se distribuem ao longo das regiões! Vamos realmente contá-los:"
   ]
  },
  {
   "cell_type": "code",
   "execution_count": null,
   "metadata": {},
   "outputs": [],
   "source": [
    "dados['region'].value_counts()"
   ]
  },
  {
   "cell_type": "markdown",
   "metadata": {},
   "source": [
    "Note que especificamos a coluna de interesse como se estivéssemos trabalhando com um dicionário, onde a chave é o nome de coluna e o valor é a *série* de dados (ou seja, todas as linhas) associados àquela coluna.\n",
    "\n",
    "Podemos também acessar a coluna usando a notação de atributo, como se cada coluna fosse um atributo de objeto:"
   ]
  },
  {
   "cell_type": "code",
   "execution_count": null,
   "metadata": {},
   "outputs": [],
   "source": [
    "dados.region.value_counts()"
   ]
  },
  {
   "cell_type": "markdown",
   "metadata": {},
   "source": [
    "Podemos observar essa distribuição de contagens de modo mais visual em um gráfico de setor:"
   ]
  },
  {
   "cell_type": "code",
   "execution_count": null,
   "metadata": {},
   "outputs": [],
   "source": [
    "dados.region.value_counts().plot.pie();"
   ]
  },
  {
   "cell_type": "markdown",
   "metadata": {},
   "source": [
    "---\n",
    "A coluna 'landlocked' indica se um pais tem acesso ao mar ou não (neste caso este pais é chamado de 'landlocked' em inglês). Esta coluna indica por zero os paises que tem acesso ao mar, e 1 para os landlocked.\n",
    "\n",
    "**Atividade 2:** Conte quantos países não possuem acesso ao mar."
   ]
  },
  {
   "cell_type": "code",
   "execution_count": null,
   "metadata": {},
   "outputs": [],
   "source": []
  },
  {
   "cell_type": "markdown",
   "metadata": {},
   "source": [
    "Até agora visualizamos quantos países tem em cada região, depois montamos a quantidade de países sem acesso ao mar. E se quiséssemos analisar conjuntamente essas variáveis, ou seja, quantos países que não tem acesso ao mar para cada região?"
   ]
  },
  {
   "cell_type": "code",
   "execution_count": null,
   "metadata": {},
   "outputs": [],
   "source": [
    "pd.crosstab(index=dados.region, columns=[dados.landlocked])"
   ]
  },
  {
   "cell_type": "markdown",
   "metadata": {},
   "source": [
    "Podemos ver que a África Sub Saariana é a região com maior proporção de países sem acesso ao mar.\n",
    "\n",
    "Será que o acesso ao mar tem impacto na riqueza do país? Antes vamos olhar a variável (coluna) que indica riqueza (GDP)"
   ]
  },
  {
   "cell_type": "code",
   "execution_count": null,
   "metadata": {},
   "outputs": [],
   "source": [
    "dados.GDPcapita.describe()"
   ]
  },
  {
   "cell_type": "markdown",
   "metadata": {},
   "source": [
    "Quais das medidas acima você conhece além da média (mean)? Veremos com mais calma nas próximas aulas.\n",
    "\n",
    "**Atividade 3:** Faz sentido usar o `value_counts()` para essa variável? Teste!\n"
   ]
  },
  {
   "cell_type": "code",
   "execution_count": null,
   "metadata": {},
   "outputs": [],
   "source": []
  },
  {
   "cell_type": "markdown",
   "metadata": {},
   "source": [
    "Incrementando nossa análise, queremos saber se o acesso ao mar impacta na riqueza de um país. Nesse caso a contagem de países por região e acesso ao mar não tem muito significado prático. Vamos substituir a frequência pela média do GDP per capita:"
   ]
  },
  {
   "cell_type": "code",
   "execution_count": null,
   "metadata": {},
   "outputs": [],
   "source": [
    "pd.pivot_table(data=dados, index='region', columns='landlocked', values='GDPcapita', aggfunc=np.mean)"
   ]
  },
  {
   "cell_type": "markdown",
   "metadata": {},
   "source": [
    "**Atividade 4:** O que vocês concluem dos dados acima?"
   ]
  },
  {
   "cell_type": "markdown",
   "metadata": {},
   "source": [
    "R:"
   ]
  },
  {
   "cell_type": "markdown",
   "metadata": {},
   "source": [
    "Parece que a região oeste europeia é diferente das demais, por que será? Para responder essa pergunta, vamos analisar apenas essa região. Criaremos um novo DataFrame filtrado por essa região:"
   ]
  },
  {
   "cell_type": "code",
   "execution_count": null,
   "metadata": {},
   "outputs": [],
   "source": [
    "dados_ew = dados[dados.region=='europe_west']\n",
    "dados_ew"
   ]
  },
  {
   "cell_type": "markdown",
   "metadata": {},
   "source": [
    "Podemos juntar duas condições simultâneas (como o `and` visto em Design de Software) para ver quais são os países sem acesso ao mar da europa ocidental:"
   ]
  },
  {
   "cell_type": "code",
   "execution_count": null,
   "metadata": {},
   "outputs": [],
   "source": [
    "dados_ew_ll = dados[(dados.region=='europe_west') & (dados.landlocked==1)]\n",
    "dados_ew_ll"
   ]
  },
  {
   "cell_type": "markdown",
   "metadata": {},
   "source": [
    "Onde `&` é equivalente ao `and`, `|` é equivalente ao `or` e `~` é equivalente ao `not`.\n",
    "\n",
    "**Atividade 5:** Você saberia explicar agora a razão da anomalia?"
   ]
  },
  {
   "cell_type": "markdown",
   "metadata": {},
   "source": [
    "R:"
   ]
  },
  {
   "cell_type": "markdown",
   "metadata": {},
   "source": [
    "Vamos mudar um pouco o foco da investigação. Vamos ver como a área de um país se relaciona com a sua riqueza:"
   ]
  },
  {
   "cell_type": "code",
   "execution_count": null,
   "metadata": {},
   "outputs": [],
   "source": [
    "dados.plot.scatter(x='surface',y='GDPcapita');"
   ]
  },
  {
   "cell_type": "markdown",
   "metadata": {},
   "source": [
    "O gráfico ficou ruim de visualizar. Existem 6 países com uma área muito maior que os demais e acabam se destacando. O mesmo ocorre para o GDP per capita.\n",
    "\n",
    "Para corrigir essa anomalia, vamos passar para uma escala logaritmica em ambos os eixos:"
   ]
  },
  {
   "cell_type": "code",
   "execution_count": null,
   "metadata": {},
   "outputs": [],
   "source": [
    "dados.plot.scatter(x='surface',y='GDPcapita', loglog=True);"
   ]
  },
  {
   "cell_type": "markdown",
   "metadata": {},
   "source": [
    "**Atividade 6**: Analisando os pontos do gráfico acima, o que você conclui disso?"
   ]
  },
  {
   "cell_type": "markdown",
   "metadata": {},
   "source": [
    "R:"
   ]
  },
  {
   "cell_type": "markdown",
   "metadata": {},
   "source": [
    "**Atividade 7**: Agora é com você! Existem outras variáveis no dataset: descubra relações interessantes! Não se esqueçam de olhar o tutorial completo de pandas no Blackboard!"
   ]
  },
  {
   "cell_type": "code",
   "execution_count": null,
   "metadata": {},
   "outputs": [],
   "source": []
  }
 ],
 "metadata": {
  "kernelspec": {
   "display_name": "Python 3",
   "language": "python",
   "name": "python3"
  },
  "language_info": {
   "codemirror_mode": {
    "name": "ipython",
    "version": 3
   },
   "file_extension": ".py",
   "mimetype": "text/x-python",
   "name": "python",
   "nbconvert_exporter": "python",
   "pygments_lexer": "ipython3",
   "version": "3.5.5"
  }
 },
 "nbformat": 4,
 "nbformat_minor": 2
}
