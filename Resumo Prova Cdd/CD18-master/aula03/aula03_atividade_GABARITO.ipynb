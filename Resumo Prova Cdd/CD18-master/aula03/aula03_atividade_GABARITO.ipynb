{
 "cells": [
  {
   "cell_type": "markdown",
   "metadata": {},
   "source": [
    "<font color=RED>GABARITO</font>"
   ]
  },
  {
   "cell_type": "markdown",
   "metadata": {},
   "source": [
    "___\n",
    "# Aula 03 - Histograma\n",
    "___\n",
    "\n",
    "\n",
    "**Preparo Prévio:**\n",
    "1. Magalhães e Lima, Capítulo 1\n",
    "\n",
    "\n"
   ]
  },
  {
   "cell_type": "markdown",
   "metadata": {},
   "source": [
    "**Atenção:** Esta aula retoma o roteiro da aula 2, detendo-se com mais detalhes em alguns aspectos"
   ]
  },
  {
   "cell_type": "markdown",
   "metadata": {},
   "source": [
    "___\n",
    "\n",
    "##  Renda per capita e CO2 de países\n",
    "\n",
    "\n",
    "Relembrando a aula passada, foram coletados dois dados do site https://www.gapminder.org/:\n",
    "1. Emissão de CO2 per capita\n",
    "1. Renda per capita (sendo usado PIB como uma `proxy` de renda)\n",
    "\n",
    "Em seguida filtramos o ano de 2010 e juntamos os arquivos usando a função join. Ao final salvamos o arquivo em um novo no formato CSV (comma separated values).\n",
    "\n",
    "Nessa aula vamos continuar trabalhando em cima das variáveis. Em especial vamos trabalhar em cima das variáveis **quantitativas**.\n",
    "\n",
    "___"
   ]
  },
  {
   "cell_type": "markdown",
   "metadata": {},
   "source": [
    "## Leitura do arquivo já lapidado"
   ]
  },
  {
   "cell_type": "code",
   "execution_count": 1,
   "metadata": {},
   "outputs": [],
   "source": [
    "%matplotlib inline\n",
    "import pandas as pd\n",
    "import numpy as np\n",
    "import math as math\n",
    "from scipy import stats\n",
    "import matplotlib.pyplot as plt"
   ]
  },
  {
   "cell_type": "code",
   "execution_count": 2,
   "metadata": {},
   "outputs": [
    {
     "data": {
      "text/html": [
       "<div>\n",
       "<style scoped>\n",
       "    .dataframe tbody tr th:only-of-type {\n",
       "        vertical-align: middle;\n",
       "    }\n",
       "\n",
       "    .dataframe tbody tr th {\n",
       "        vertical-align: top;\n",
       "    }\n",
       "\n",
       "    .dataframe thead th {\n",
       "        text-align: right;\n",
       "    }\n",
       "</style>\n",
       "<table border=\"1\" class=\"dataframe\">\n",
       "  <thead>\n",
       "    <tr style=\"text-align: right;\">\n",
       "      <th></th>\n",
       "      <th>Unnamed: 0</th>\n",
       "      <th>2010_co2</th>\n",
       "      <th>2010_income</th>\n",
       "      <th>region</th>\n",
       "      <th>landlocked</th>\n",
       "    </tr>\n",
       "  </thead>\n",
       "  <tbody>\n",
       "    <tr>\n",
       "      <th>0</th>\n",
       "      <td>Albania</td>\n",
       "      <td>1.336544</td>\n",
       "      <td>9374.0</td>\n",
       "      <td>europe_east</td>\n",
       "      <td>0</td>\n",
       "    </tr>\n",
       "    <tr>\n",
       "      <th>1</th>\n",
       "      <td>Algeria</td>\n",
       "      <td>3.480977</td>\n",
       "      <td>12494.0</td>\n",
       "      <td>africa_north</td>\n",
       "      <td>0</td>\n",
       "    </tr>\n",
       "    <tr>\n",
       "      <th>2</th>\n",
       "      <td>Angola</td>\n",
       "      <td>1.593918</td>\n",
       "      <td>7047.0</td>\n",
       "      <td>africa_sub_saharan</td>\n",
       "      <td>0</td>\n",
       "    </tr>\n",
       "    <tr>\n",
       "      <th>3</th>\n",
       "      <td>Antigua and Barbuda</td>\n",
       "      <td>5.786646</td>\n",
       "      <td>20567.0</td>\n",
       "      <td>america_north</td>\n",
       "      <td>0</td>\n",
       "    </tr>\n",
       "    <tr>\n",
       "      <th>4</th>\n",
       "      <td>Argentina</td>\n",
       "      <td>4.466338</td>\n",
       "      <td>15765.0</td>\n",
       "      <td>america_south</td>\n",
       "      <td>0</td>\n",
       "    </tr>\n",
       "  </tbody>\n",
       "</table>\n",
       "</div>"
      ],
      "text/plain": [
       "            Unnamed: 0  2010_co2  2010_income              region  landlocked\n",
       "0              Albania  1.336544       9374.0         europe_east           0\n",
       "1              Algeria  3.480977      12494.0        africa_north           0\n",
       "2               Angola  1.593918       7047.0  africa_sub_saharan           0\n",
       "3  Antigua and Barbuda  5.786646      20567.0       america_north           0\n",
       "4            Argentina  4.466338      15765.0       america_south           0"
      ]
     },
     "execution_count": 2,
     "metadata": {},
     "output_type": "execute_result"
    }
   ],
   "source": [
    "#Leitura dos arquivos em CSV da aula anterior\n",
    "data = pd.read_csv('co2_income.csv')\n",
    "data.head()"
   ]
  },
  {
   "cell_type": "code",
   "execution_count": 3,
   "metadata": {},
   "outputs": [
    {
     "data": {
      "text/plain": [
       "Index(['Unnamed: 0', '2010_co2', '2010_income', 'region', 'landlocked'], dtype='object')"
      ]
     },
     "execution_count": 3,
     "metadata": {},
     "output_type": "execute_result"
    }
   ],
   "source": [
    "data.columns"
   ]
  },
  {
   "cell_type": "markdown",
   "metadata": {},
   "source": [
    "Retomando o que foi feito na aula passada, vamos dar uma olhada em CO2"
   ]
  },
  {
   "cell_type": "code",
   "execution_count": 4,
   "metadata": {
    "scrolled": true
   },
   "outputs": [
    {
     "data": {
      "text/plain": [
       "count       168.000000\n",
       "mean      16898.964286\n",
       "std       19264.053119\n",
       "min         632.000000\n",
       "25%        3327.500000\n",
       "50%       10393.000000\n",
       "75%       21675.500000\n",
       "max      127984.000000\n",
       "Name: 2010_income, dtype: float64"
      ]
     },
     "execution_count": 4,
     "metadata": {},
     "output_type": "execute_result"
    }
   ],
   "source": [
    "data[\"2010_income\"].describe()"
   ]
  },
  {
   "cell_type": "markdown",
   "metadata": {},
   "source": [
    "Note que algumas medidas resumo descritivas estão disponíveis no `describe()`. Podemos afirmar que a média de CO2 é cerca de 4.87 toneladas por pessoa no ano. Temos também a mediana (também chamada de segundo quartil), primeiro quartil, terceiro quartil, desvio padrão entre outros.\n",
    "\n",
    "E se quiséssemos capturar alguma medida em uma variável? \n",
    "\n",
    "Vamos montar um dicionário:"
   ]
  },
  {
   "cell_type": "code",
   "execution_count": 5,
   "metadata": {
    "scrolled": true
   },
   "outputs": [
    {
     "data": {
      "text/plain": [
       "{'count': 168,\n",
       " 'mean': 16898.964285714286,\n",
       " 'median': 10393.0,\n",
       " 'std': 19264.053119360506}"
      ]
     },
     "execution_count": 5,
     "metadata": {},
     "output_type": "execute_result"
    }
   ],
   "source": [
    "describe = {'count': len(data[\"2010_income\"]), \n",
    "            'mean': data[\"2010_income\"].mean(),\n",
    "            'std': data[\"2010_income\"].std(),\n",
    "            'median': data[\"2010_income\"].quantile(0.5)}\n",
    "describe"
   ]
  },
  {
   "cell_type": "markdown",
   "metadata": {},
   "source": [
    "Vamos dar uma olhada também no histograma:"
   ]
  },
  {
   "cell_type": "code",
   "execution_count": 6,
   "metadata": {},
   "outputs": [
    {
     "data": {
      "image/png": "[encoded data removed]",
      "text/plain": [
       "<Figure size 432x288 with 1 Axes>"
      ]
     },
     "metadata": {},
     "output_type": "display_data"
    }
   ],
   "source": [
    "data[\"2010_co2\"].plot(kind='hist', density=True);"
   ]
  },
  {
   "cell_type": "markdown",
   "metadata": {},
   "source": [
    " Olhando o gráfico acima, você consegue apontar a média e mediana?"
   ]
  },
  {
   "cell_type": "markdown",
   "metadata": {},
   "source": [
    "#### Atividade 3"
   ]
  },
  {
   "cell_type": "markdown",
   "metadata": {},
   "source": [
    " Use um recurso apropriado para visualizar a coluna `2010_income``\n",
    ". Justifique"
   ]
  },
  {
   "cell_type": "markdown",
   "metadata": {},
   "source": [
    "Os recursos apropriados para visualizar uma variável quantitativa são boxplot e histograma. Usaremos ambos"
   ]
  },
  {
   "cell_type": "code",
   "execution_count": 7,
   "metadata": {},
   "outputs": [
    {
     "data": {
      "text/plain": [
       "<matplotlib.axes._subplots.AxesSubplot at 0x113b52a58>"
      ]
     },
     "execution_count": 7,
     "metadata": {},
     "output_type": "execute_result"
    },
    {
     "data": {
      "image/png": "[encoded data removed]",
      "text/plain": [
       "<Figure size 432x288 with 1 Axes>"
      ]
     },
     "metadata": {},
     "output_type": "display_data"
    }
   ],
   "source": [
    "data[\"2010_income\"].plot.box()"
   ]
  },
  {
   "cell_type": "markdown",
   "metadata": {},
   "source": [
    "No exemplo de boxplot acima podemos ver que a maior parte dos valores está espremida na parte de baixo porque uns poucos valores altos esticaram a escala. Podemos melhorar esta visualização se trabalharmos com escala log na vertical:"
   ]
  },
  {
   "cell_type": "code",
   "execution_count": 8,
   "metadata": {},
   "outputs": [
    {
     "data": {
      "text/plain": [
       "<matplotlib.axes._subplots.AxesSubplot at 0x113c02390>"
      ]
     },
     "execution_count": 8,
     "metadata": {},
     "output_type": "execute_result"
    },
    {
     "data": {
      "image/png": "[encoded data removed]",
      "text/plain": [
       "<Figure size 432x288 with 1 Axes>"
      ]
     },
     "metadata": {},
     "output_type": "display_data"
    }
   ],
   "source": [
    "data[\"2010_income\"].plot.box(logy=True)"
   ]
  },
  {
   "cell_type": "code",
   "execution_count": 9,
   "metadata": {},
   "outputs": [
    {
     "data": {
      "text/plain": [
       "<matplotlib.axes._subplots.AxesSubplot at 0x113b601d0>"
      ]
     },
     "execution_count": 9,
     "metadata": {},
     "output_type": "execute_result"
    },
    {
     "data": {
      "image/png": "[encoded data removed]",
      "text/plain": [
       "<Figure size 432x288 with 1 Axes>"
      ]
     },
     "metadata": {},
     "output_type": "display_data"
    }
   ],
   "source": [
    "data[\"2010_income\"].plot.hist()"
   ]
  },
  {
   "cell_type": "markdown",
   "metadata": {},
   "source": [
    "#### Atividade 4 - 2010_income"
   ]
  },
  {
   "cell_type": "markdown",
   "metadata": {},
   "source": [
    "Particione a coluna *2010_income* em 10 seções. Guarde a coluna de volta no DataFrame como `2010_income_ordinal`\n",
    "\n",
    "Dica: use `pd.cut()`"
   ]
  },
  {
   "cell_type": "code",
   "execution_count": 10,
   "metadata": {},
   "outputs": [],
   "source": [
    "data[\"2010_income_ordinal\"] = pd.cut(data[\"2010_income\"], bins=10)"
   ]
  },
  {
   "cell_type": "code",
   "execution_count": 11,
   "metadata": {},
   "outputs": [
    {
     "data": {
      "text/plain": [
       "0    (504.648, 13367.2]\n",
       "1    (504.648, 13367.2]\n",
       "2    (504.648, 13367.2]\n",
       "3    (13367.2, 26102.4]\n",
       "4    (13367.2, 26102.4]\n",
       "Name: 2010_income_ordinal, dtype: category\n",
       "Categories (10, interval[float64]): [(504.648, 13367.2] < (13367.2, 26102.4] < (26102.4, 38837.6] < (38837.6, 51572.8] ... (77043.2, 89778.4] < (89778.4, 102513.6] < (102513.6, 115248.8] < (115248.8, 127984.0]]"
      ]
     },
     "execution_count": 11,
     "metadata": {},
     "output_type": "execute_result"
    }
   ],
   "source": [
    "data[\"2010_income_ordinal\"].head()"
   ]
  },
  {
   "cell_type": "markdown",
   "metadata": {},
   "source": [
    "#### Atividade 4.1\n",
    "\n",
    " Apresente a tabela de frequência da *2010_income_ordinal*"
   ]
  },
  {
   "cell_type": "code",
   "execution_count": 12,
   "metadata": {},
   "outputs": [
    {
     "data": {
      "text/plain": [
       "(504.648, 13367.2]      98\n",
       "(13367.2, 26102.4]      32\n",
       "(38837.6, 51572.8]      15\n",
       "(26102.4, 38837.6]      15\n",
       "(64308.0, 77043.2]       3\n",
       "(51572.8, 64308.0]       3\n",
       "(115248.8, 127984.0]     1\n",
       "(89778.4, 102513.6]      1\n",
       "(102513.6, 115248.8]     0\n",
       "(77043.2, 89778.4]       0\n",
       "Name: 2010_income_ordinal, dtype: int64"
      ]
     },
     "execution_count": 12,
     "metadata": {},
     "output_type": "execute_result"
    }
   ],
   "source": [
    "data[\"2010_income_ordinal\"].value_counts()"
   ]
  },
  {
   "cell_type": "markdown",
   "metadata": {},
   "source": [
    "#### Atividade 5\n",
    "\n",
    "\n",
    "#### 5.1 Análise com variáveis quantitativas\n",
    "Você foi encarregado de responder se a  seguinte afirmação é verdadeira ou falsa: a taxa de fertilidade é maior em regiões menos desenvolvidas do mundo.\n",
    "\n",
    "\n",
    "Responda visualizando `2010_income`  versus taxa de fertilidade. Lembre-se do diagrama de dispersão visto na aula passada.\n",
    "\n",
    "A taxa de fertilidade [pode ser encontrada no site do Gapminder](https://www.gapminder.org/data/documentation/gd008/).\n",
    "\n",
    "\n"
   ]
  },
  {
   "cell_type": "code",
   "execution_count": 13,
   "metadata": {},
   "outputs": [],
   "source": [
    "fert = pd.read_excel(\"children_per_woman_total_fertility.xlsx\")"
   ]
  },
  {
   "cell_type": "code",
   "execution_count": 14,
   "metadata": {
    "scrolled": true
   },
   "outputs": [
    {
     "data": {
      "text/html": [
       "<div>\n",
       "<style scoped>\n",
       "    .dataframe tbody tr th:only-of-type {\n",
       "        vertical-align: middle;\n",
       "    }\n",
       "\n",
       "    .dataframe tbody tr th {\n",
       "        vertical-align: top;\n",
       "    }\n",
       "\n",
       "    .dataframe thead th {\n",
       "        text-align: right;\n",
       "    }\n",
       "</style>\n",
       "<table border=\"1\" class=\"dataframe\">\n",
       "  <thead>\n",
       "    <tr style=\"text-align: right;\">\n",
       "      <th></th>\n",
       "      <th>geo</th>\n",
       "      <th>1800</th>\n",
       "      <th>1801</th>\n",
       "      <th>1802</th>\n",
       "      <th>1803</th>\n",
       "      <th>1804</th>\n",
       "      <th>1805</th>\n",
       "      <th>1806</th>\n",
       "      <th>1807</th>\n",
       "      <th>1808</th>\n",
       "      <th>...</th>\n",
       "      <th>2091</th>\n",
       "      <th>2092</th>\n",
       "      <th>2093</th>\n",
       "      <th>2094</th>\n",
       "      <th>2095</th>\n",
       "      <th>2096</th>\n",
       "      <th>2097</th>\n",
       "      <th>2098</th>\n",
       "      <th>2099</th>\n",
       "      <th>2100</th>\n",
       "    </tr>\n",
       "  </thead>\n",
       "  <tbody>\n",
       "    <tr>\n",
       "      <th>0</th>\n",
       "      <td>Abkhazia</td>\n",
       "      <td>NaN</td>\n",
       "      <td>NaN</td>\n",
       "      <td>NaN</td>\n",
       "      <td>NaN</td>\n",
       "      <td>NaN</td>\n",
       "      <td>NaN</td>\n",
       "      <td>NaN</td>\n",
       "      <td>NaN</td>\n",
       "      <td>NaN</td>\n",
       "      <td>...</td>\n",
       "      <td>NaN</td>\n",
       "      <td>NaN</td>\n",
       "      <td>NaN</td>\n",
       "      <td>NaN</td>\n",
       "      <td>NaN</td>\n",
       "      <td>NaN</td>\n",
       "      <td>NaN</td>\n",
       "      <td>NaN</td>\n",
       "      <td>NaN</td>\n",
       "      <td>NaN</td>\n",
       "    </tr>\n",
       "    <tr>\n",
       "      <th>1</th>\n",
       "      <td>Afghanistan</td>\n",
       "      <td>7.0</td>\n",
       "      <td>7.0</td>\n",
       "      <td>7.0</td>\n",
       "      <td>7.0</td>\n",
       "      <td>7.0</td>\n",
       "      <td>7.0</td>\n",
       "      <td>7.0</td>\n",
       "      <td>7.0</td>\n",
       "      <td>7.0</td>\n",
       "      <td>...</td>\n",
       "      <td>1.74</td>\n",
       "      <td>1.74</td>\n",
       "      <td>1.74</td>\n",
       "      <td>1.74</td>\n",
       "      <td>1.74</td>\n",
       "      <td>1.74</td>\n",
       "      <td>1.74</td>\n",
       "      <td>1.74</td>\n",
       "      <td>1.74</td>\n",
       "      <td>1.74</td>\n",
       "    </tr>\n",
       "    <tr>\n",
       "      <th>2</th>\n",
       "      <td>Akrotiri and Dhekelia</td>\n",
       "      <td>NaN</td>\n",
       "      <td>NaN</td>\n",
       "      <td>NaN</td>\n",
       "      <td>NaN</td>\n",
       "      <td>NaN</td>\n",
       "      <td>NaN</td>\n",
       "      <td>NaN</td>\n",
       "      <td>NaN</td>\n",
       "      <td>NaN</td>\n",
       "      <td>...</td>\n",
       "      <td>NaN</td>\n",
       "      <td>NaN</td>\n",
       "      <td>NaN</td>\n",
       "      <td>NaN</td>\n",
       "      <td>NaN</td>\n",
       "      <td>NaN</td>\n",
       "      <td>NaN</td>\n",
       "      <td>NaN</td>\n",
       "      <td>NaN</td>\n",
       "      <td>NaN</td>\n",
       "    </tr>\n",
       "  </tbody>\n",
       "</table>\n",
       "<p>3 rows × 302 columns</p>\n",
       "</div>"
      ],
      "text/plain": [
       "                     geo  1800  1801  1802  1803  1804  1805  1806  1807  \\\n",
       "0               Abkhazia   NaN   NaN   NaN   NaN   NaN   NaN   NaN   NaN   \n",
       "1            Afghanistan   7.0   7.0   7.0   7.0   7.0   7.0   7.0   7.0   \n",
       "2  Akrotiri and Dhekelia   NaN   NaN   NaN   NaN   NaN   NaN   NaN   NaN   \n",
       "\n",
       "   1808  ...   2091  2092  2093  2094  2095  2096  2097  2098  2099  2100  \n",
       "0   NaN  ...    NaN   NaN   NaN   NaN   NaN   NaN   NaN   NaN   NaN   NaN  \n",
       "1   7.0  ...   1.74  1.74  1.74  1.74  1.74  1.74  1.74  1.74  1.74  1.74  \n",
       "2   NaN  ...    NaN   NaN   NaN   NaN   NaN   NaN   NaN   NaN   NaN   NaN  \n",
       "\n",
       "[3 rows x 302 columns]"
      ]
     },
     "execution_count": 14,
     "metadata": {},
     "output_type": "execute_result"
    }
   ],
   "source": [
    "fert.head(3)"
   ]
  },
  {
   "cell_type": "markdown",
   "metadata": {},
   "source": [
    "Estamos interessados apenas no valor de 2010, para que a análise fique coerente com os dados da coluna `data['2010_income']` . Vamos portanto selecionar este sub-dataframe"
   ]
  },
  {
   "cell_type": "code",
   "execution_count": 15,
   "metadata": {},
   "outputs": [],
   "source": [
    "fert_10 = fert.loc[:, [\"geo\", 2010]]"
   ]
  },
  {
   "cell_type": "code",
   "execution_count": 16,
   "metadata": {},
   "outputs": [
    {
     "data": {
      "text/html": [
       "<div>\n",
       "<style scoped>\n",
       "    .dataframe tbody tr th:only-of-type {\n",
       "        vertical-align: middle;\n",
       "    }\n",
       "\n",
       "    .dataframe tbody tr th {\n",
       "        vertical-align: top;\n",
       "    }\n",
       "\n",
       "    .dataframe thead th {\n",
       "        text-align: right;\n",
       "    }\n",
       "</style>\n",
       "<table border=\"1\" class=\"dataframe\">\n",
       "  <thead>\n",
       "    <tr style=\"text-align: right;\">\n",
       "      <th></th>\n",
       "      <th>geo</th>\n",
       "      <th>2010</th>\n",
       "    </tr>\n",
       "  </thead>\n",
       "  <tbody>\n",
       "    <tr>\n",
       "      <th>0</th>\n",
       "      <td>Abkhazia</td>\n",
       "      <td>NaN</td>\n",
       "    </tr>\n",
       "    <tr>\n",
       "      <th>1</th>\n",
       "      <td>Afghanistan</td>\n",
       "      <td>5.82</td>\n",
       "    </tr>\n",
       "  </tbody>\n",
       "</table>\n",
       "</div>"
      ],
      "text/plain": [
       "           geo  2010\n",
       "0     Abkhazia   NaN\n",
       "1  Afghanistan  5.82"
      ]
     },
     "execution_count": 16,
     "metadata": {},
     "output_type": "execute_result"
    }
   ],
   "source": [
    "fert_10.head(2)"
   ]
  },
  {
   "cell_type": "markdown",
   "metadata": {},
   "source": [
    "Precisamos converter o índice para que seja o mesmo no join."
   ]
  },
  {
   "cell_type": "code",
   "execution_count": 17,
   "metadata": {},
   "outputs": [],
   "source": [
    "fert_idx = fert_10.set_index(\"geo\")"
   ]
  },
  {
   "cell_type": "code",
   "execution_count": 18,
   "metadata": {},
   "outputs": [
    {
     "data": {
      "text/html": [
       "<div>\n",
       "<style scoped>\n",
       "    .dataframe tbody tr th:only-of-type {\n",
       "        vertical-align: middle;\n",
       "    }\n",
       "\n",
       "    .dataframe tbody tr th {\n",
       "        vertical-align: top;\n",
       "    }\n",
       "\n",
       "    .dataframe thead th {\n",
       "        text-align: right;\n",
       "    }\n",
       "</style>\n",
       "<table border=\"1\" class=\"dataframe\">\n",
       "  <thead>\n",
       "    <tr style=\"text-align: right;\">\n",
       "      <th></th>\n",
       "      <th>Unnamed: 0</th>\n",
       "      <th>2010_co2</th>\n",
       "      <th>2010_income</th>\n",
       "      <th>region</th>\n",
       "      <th>landlocked</th>\n",
       "      <th>2010_income_ordinal</th>\n",
       "    </tr>\n",
       "  </thead>\n",
       "  <tbody>\n",
       "    <tr>\n",
       "      <th>0</th>\n",
       "      <td>Albania</td>\n",
       "      <td>1.336544</td>\n",
       "      <td>9374.0</td>\n",
       "      <td>europe_east</td>\n",
       "      <td>0</td>\n",
       "      <td>(504.648, 13367.2]</td>\n",
       "    </tr>\n",
       "    <tr>\n",
       "      <th>1</th>\n",
       "      <td>Algeria</td>\n",
       "      <td>3.480977</td>\n",
       "      <td>12494.0</td>\n",
       "      <td>africa_north</td>\n",
       "      <td>0</td>\n",
       "      <td>(504.648, 13367.2]</td>\n",
       "    </tr>\n",
       "    <tr>\n",
       "      <th>2</th>\n",
       "      <td>Angola</td>\n",
       "      <td>1.593918</td>\n",
       "      <td>7047.0</td>\n",
       "      <td>africa_sub_saharan</td>\n",
       "      <td>0</td>\n",
       "      <td>(504.648, 13367.2]</td>\n",
       "    </tr>\n",
       "    <tr>\n",
       "      <th>3</th>\n",
       "      <td>Antigua and Barbuda</td>\n",
       "      <td>5.786646</td>\n",
       "      <td>20567.0</td>\n",
       "      <td>america_north</td>\n",
       "      <td>0</td>\n",
       "      <td>(13367.2, 26102.4]</td>\n",
       "    </tr>\n",
       "    <tr>\n",
       "      <th>4</th>\n",
       "      <td>Argentina</td>\n",
       "      <td>4.466338</td>\n",
       "      <td>15765.0</td>\n",
       "      <td>america_south</td>\n",
       "      <td>0</td>\n",
       "      <td>(13367.2, 26102.4]</td>\n",
       "    </tr>\n",
       "  </tbody>\n",
       "</table>\n",
       "</div>"
      ],
      "text/plain": [
       "            Unnamed: 0  2010_co2  2010_income              region  landlocked  \\\n",
       "0              Albania  1.336544       9374.0         europe_east           0   \n",
       "1              Algeria  3.480977      12494.0        africa_north           0   \n",
       "2               Angola  1.593918       7047.0  africa_sub_saharan           0   \n",
       "3  Antigua and Barbuda  5.786646      20567.0       america_north           0   \n",
       "4            Argentina  4.466338      15765.0       america_south           0   \n",
       "\n",
       "  2010_income_ordinal  \n",
       "0  (504.648, 13367.2]  \n",
       "1  (504.648, 13367.2]  \n",
       "2  (504.648, 13367.2]  \n",
       "3  (13367.2, 26102.4]  \n",
       "4  (13367.2, 26102.4]  "
      ]
     },
     "execution_count": 18,
     "metadata": {},
     "output_type": "execute_result"
    }
   ],
   "source": [
    "data.head()"
   ]
  },
  {
   "cell_type": "code",
   "execution_count": 19,
   "metadata": {},
   "outputs": [],
   "source": [
    "data.rename(columns={data.columns[0]:'country'}, inplace=True)"
   ]
  },
  {
   "cell_type": "markdown",
   "metadata": {},
   "source": [
    "Vamos definir o nome do país como índice. "
   ]
  },
  {
   "cell_type": "code",
   "execution_count": 20,
   "metadata": {},
   "outputs": [],
   "source": [
    "data.set_index('country', inplace=True) # O inplace troca no próprio DataFrame"
   ]
  },
  {
   "cell_type": "code",
   "execution_count": 21,
   "metadata": {},
   "outputs": [],
   "source": [
    "data_fert = data.join(fert_idx, how=\"inner\", rsuffix=\"fert\")"
   ]
  },
  {
   "cell_type": "code",
   "execution_count": 22,
   "metadata": {},
   "outputs": [
    {
     "data": {
      "text/html": [
       "<div>\n",
       "<style scoped>\n",
       "    .dataframe tbody tr th:only-of-type {\n",
       "        vertical-align: middle;\n",
       "    }\n",
       "\n",
       "    .dataframe tbody tr th {\n",
       "        vertical-align: top;\n",
       "    }\n",
       "\n",
       "    .dataframe thead th {\n",
       "        text-align: right;\n",
       "    }\n",
       "</style>\n",
       "<table border=\"1\" class=\"dataframe\">\n",
       "  <thead>\n",
       "    <tr style=\"text-align: right;\">\n",
       "      <th></th>\n",
       "      <th>2010_co2</th>\n",
       "      <th>2010_income</th>\n",
       "      <th>region</th>\n",
       "      <th>landlocked</th>\n",
       "      <th>2010_income_ordinal</th>\n",
       "      <th>2010</th>\n",
       "    </tr>\n",
       "  </thead>\n",
       "  <tbody>\n",
       "    <tr>\n",
       "      <th>Albania</th>\n",
       "      <td>1.336544</td>\n",
       "      <td>9374.0</td>\n",
       "      <td>europe_east</td>\n",
       "      <td>0</td>\n",
       "      <td>(504.648, 13367.2]</td>\n",
       "      <td>1.65</td>\n",
       "    </tr>\n",
       "    <tr>\n",
       "      <th>Algeria</th>\n",
       "      <td>3.480977</td>\n",
       "      <td>12494.0</td>\n",
       "      <td>africa_north</td>\n",
       "      <td>0</td>\n",
       "      <td>(504.648, 13367.2]</td>\n",
       "      <td>2.89</td>\n",
       "    </tr>\n",
       "    <tr>\n",
       "      <th>Angola</th>\n",
       "      <td>1.593918</td>\n",
       "      <td>7047.0</td>\n",
       "      <td>africa_sub_saharan</td>\n",
       "      <td>0</td>\n",
       "      <td>(504.648, 13367.2]</td>\n",
       "      <td>6.16</td>\n",
       "    </tr>\n",
       "  </tbody>\n",
       "</table>\n",
       "</div>"
      ],
      "text/plain": [
       "         2010_co2  2010_income              region  landlocked  \\\n",
       "Albania  1.336544       9374.0         europe_east           0   \n",
       "Algeria  3.480977      12494.0        africa_north           0   \n",
       "Angola   1.593918       7047.0  africa_sub_saharan           0   \n",
       "\n",
       "        2010_income_ordinal  2010  \n",
       "Albania  (504.648, 13367.2]  1.65  \n",
       "Algeria  (504.648, 13367.2]  2.89  \n",
       "Angola   (504.648, 13367.2]  6.16  "
      ]
     },
     "execution_count": 22,
     "metadata": {},
     "output_type": "execute_result"
    }
   ],
   "source": [
    "data_fert.head(3)"
   ]
  },
  {
   "cell_type": "code",
   "execution_count": 23,
   "metadata": {},
   "outputs": [
    {
     "data": {
      "text/plain": [
       "<matplotlib.axes._subplots.AxesSubplot at 0x107cdfc18>"
      ]
     },
     "execution_count": 23,
     "metadata": {},
     "output_type": "execute_result"
    },
    {
     "data": {
      "image/png": "[encoded data removed]",
      "text/plain": [
       "<Figure size 432x288 with 1 Axes>"
      ]
     },
     "metadata": {},
     "output_type": "display_data"
    }
   ],
   "source": [
    "data_fert.plot.scatter(x=\"2010_income\", y = 2010, loglog=True)"
   ]
  },
  {
   "cell_type": "markdown",
   "metadata": {},
   "source": [
    "#### 5.2 Análise com variáveis qualitativas\n",
    "\n",
    "Adote um outro enfoque: cruze a taxa de fertilidade com o atributo de regiões\n",
    "\n",
    "\n",
    "**Responda:**\n",
    "\n",
    "Para visualizar melhor é mais útil ver a versão absoluta ou relativa da tabela cruzada? Ou seja, é mais útil que a tabela toda some 100%, ou somar 100% por região? *como se faz isso?*\n"
   ]
  },
  {
   "cell_type": "code",
   "execution_count": 24,
   "metadata": {},
   "outputs": [
    {
     "data": {
      "text/plain": [
       "<matplotlib.axes._subplots.AxesSubplot at 0x1a18bfeef0>"
      ]
     },
     "execution_count": 24,
     "metadata": {},
     "output_type": "execute_result"
    },
    {
     "data": {
      "image/png": "[encoded data removed]",
      "text/plain": [
       "<Figure size 432x288 with 1 Axes>"
      ]
     },
     "metadata": {},
     "output_type": "display_data"
    }
   ],
   "source": [
    "data_fert[2010].plot.hist()"
   ]
  },
  {
   "cell_type": "code",
   "execution_count": 25,
   "metadata": {},
   "outputs": [],
   "source": [
    "data_fert[\"Fertilidade cut\"] = pd.cut(data_fert[2010],bins=4)"
   ]
  },
  {
   "cell_type": "code",
   "execution_count": 26,
   "metadata": {},
   "outputs": [],
   "source": [
    "ct = pd.crosstab(data_fert[\"Fertilidade cut\"], data_fert[\"region\"])"
   ]
  },
  {
   "cell_type": "code",
   "execution_count": 27,
   "metadata": {
    "scrolled": false
   },
   "outputs": [
    {
     "data": {
      "text/html": [
       "<div>\n",
       "<style scoped>\n",
       "    .dataframe tbody tr th:only-of-type {\n",
       "        vertical-align: middle;\n",
       "    }\n",
       "\n",
       "    .dataframe tbody tr th {\n",
       "        vertical-align: top;\n",
       "    }\n",
       "\n",
       "    .dataframe thead th {\n",
       "        text-align: right;\n",
       "    }\n",
       "</style>\n",
       "<table border=\"1\" class=\"dataframe\">\n",
       "  <thead>\n",
       "    <tr style=\"text-align: right;\">\n",
       "      <th>region</th>\n",
       "      <th>africa_north</th>\n",
       "      <th>africa_sub_saharan</th>\n",
       "      <th>america_north</th>\n",
       "      <th>america_south</th>\n",
       "      <th>asia_west</th>\n",
       "      <th>east_asia_pacific</th>\n",
       "      <th>europe_east</th>\n",
       "      <th>europe_west</th>\n",
       "    </tr>\n",
       "    <tr>\n",
       "      <th>Fertilidade cut</th>\n",
       "      <th></th>\n",
       "      <th></th>\n",
       "      <th></th>\n",
       "      <th></th>\n",
       "      <th></th>\n",
       "      <th></th>\n",
       "      <th></th>\n",
       "      <th></th>\n",
       "    </tr>\n",
       "  </thead>\n",
       "  <tbody>\n",
       "    <tr>\n",
       "      <th>(1.114, 2.713]</th>\n",
       "      <td>2</td>\n",
       "      <td>4</td>\n",
       "      <td>12</td>\n",
       "      <td>10</td>\n",
       "      <td>13</td>\n",
       "      <td>13</td>\n",
       "      <td>23</td>\n",
       "      <td>20</td>\n",
       "    </tr>\n",
       "    <tr>\n",
       "      <th>(2.713, 4.305]</th>\n",
       "      <td>2</td>\n",
       "      <td>7</td>\n",
       "      <td>4</td>\n",
       "      <td>2</td>\n",
       "      <td>8</td>\n",
       "      <td>8</td>\n",
       "      <td>0</td>\n",
       "      <td>0</td>\n",
       "    </tr>\n",
       "    <tr>\n",
       "      <th>(5.898, 7.49]</th>\n",
       "      <td>0</td>\n",
       "      <td>26</td>\n",
       "      <td>0</td>\n",
       "      <td>0</td>\n",
       "      <td>1</td>\n",
       "      <td>1</td>\n",
       "      <td>0</td>\n",
       "      <td>0</td>\n",
       "    </tr>\n",
       "    <tr>\n",
       "      <th>(4.305, 5.898]</th>\n",
       "      <td>0</td>\n",
       "      <td>7</td>\n",
       "      <td>0</td>\n",
       "      <td>0</td>\n",
       "      <td>0</td>\n",
       "      <td>1</td>\n",
       "      <td>0</td>\n",
       "      <td>0</td>\n",
       "    </tr>\n",
       "  </tbody>\n",
       "</table>\n",
       "</div>"
      ],
      "text/plain": [
       "region           africa_north  africa_sub_saharan  america_north  \\\n",
       "Fertilidade cut                                                    \n",
       "(1.114, 2.713]              2                   4             12   \n",
       "(2.713, 4.305]              2                   7              4   \n",
       "(5.898, 7.49]               0                  26              0   \n",
       "(4.305, 5.898]              0                   7              0   \n",
       "\n",
       "region           america_south  asia_west  east_asia_pacific  europe_east  \\\n",
       "Fertilidade cut                                                             \n",
       "(1.114, 2.713]              10         13                 13           23   \n",
       "(2.713, 4.305]               2          8                  8            0   \n",
       "(5.898, 7.49]                0          1                  1            0   \n",
       "(4.305, 5.898]               0          0                  1            0   \n",
       "\n",
       "region           europe_west  \n",
       "Fertilidade cut               \n",
       "(1.114, 2.713]            20  \n",
       "(2.713, 4.305]             0  \n",
       "(5.898, 7.49]              0  \n",
       "(4.305, 5.898]             0  "
      ]
     },
     "execution_count": 27,
     "metadata": {},
     "output_type": "execute_result"
    }
   ],
   "source": [
    "ct"
   ]
  },
  {
   "cell_type": "code",
   "execution_count": null,
   "metadata": {},
   "outputs": [],
   "source": []
  },
  {
   "cell_type": "markdown",
   "metadata": {},
   "source": [
    "#### Atividade 6 - análise livre\n",
    "\n",
    "Vá ao site [gapminder.org](https://www.gapminder.org/data/) e escolha uma variável quantitativa.\n",
    "\n",
    "\n",
    "Visualize esta variável usando histograma *e* boxplot.\n",
    "\n",
    "Classifique o comportamento desta variável em relação a assimetrias e apresente as principais medidas-resumo: média, mediana e desvio padrão\n",
    "\n",
    "Explique o que significam as partes do boxplot\n"
   ]
  },
  {
   "cell_type": "code",
   "execution_count": 28,
   "metadata": {},
   "outputs": [
    {
     "data": {
      "text/plain": [
       "<matplotlib.axes._subplots.AxesSubplot at 0x1a18ce9fd0>"
      ]
     },
     "execution_count": 28,
     "metadata": {},
     "output_type": "execute_result"
    },
    {
     "data": {
      "image/png": "[encoded data removed]",
      "text/plain": [
       "<Figure size 432x288 with 1 Axes>"
      ]
     },
     "metadata": {},
     "output_type": "display_data"
    }
   ],
   "source": [
    "data.loc[:, \"2010_income\"].plot.box()"
   ]
  },
  {
   "cell_type": "markdown",
   "metadata": {},
   "source": [
    "#### Atividade 7 - cruzamento de dados"
   ]
  },
  {
   "cell_type": "markdown",
   "metadata": {},
   "source": [
    "A variável estudada na atividade anterior tem seu valor influenciado pela região ou pelo GDP per capita? Estude ambas as hipóteses"
   ]
  },
  {
   "cell_type": "markdown",
   "metadata": {},
   "source": [
    "Vamos escolher as [Exportações como percentual do GDP](https://docs.google.com/spreadsheets/d/1Cw9r5Pzz8AmN4qYptNOIf6FMoWndPKf3MAJAnKukCoQ/pub).\n",
    "\n",
    "\n",
    "\n"
   ]
  },
  {
   "cell_type": "code",
   "execution_count": 29,
   "metadata": {},
   "outputs": [],
   "source": [
    "exports = pd.read_excel(\"Exports (p of GDP).xlsx\")"
   ]
  },
  {
   "cell_type": "code",
   "execution_count": 30,
   "metadata": {},
   "outputs": [
    {
     "data": {
      "text/html": [
       "<div>\n",
       "<style scoped>\n",
       "    .dataframe tbody tr th:only-of-type {\n",
       "        vertical-align: middle;\n",
       "    }\n",
       "\n",
       "    .dataframe tbody tr th {\n",
       "        vertical-align: top;\n",
       "    }\n",
       "\n",
       "    .dataframe thead th {\n",
       "        text-align: right;\n",
       "    }\n",
       "</style>\n",
       "<table border=\"1\" class=\"dataframe\">\n",
       "  <thead>\n",
       "    <tr style=\"text-align: right;\">\n",
       "      <th></th>\n",
       "      <th>Exports of goods and services (% of GDP)</th>\n",
       "      <th>1961</th>\n",
       "      <th>1962</th>\n",
       "      <th>1963</th>\n",
       "      <th>1964</th>\n",
       "      <th>1965</th>\n",
       "      <th>1966</th>\n",
       "      <th>1967</th>\n",
       "      <th>1968</th>\n",
       "      <th>1969</th>\n",
       "      <th>...</th>\n",
       "      <th>2002</th>\n",
       "      <th>2003</th>\n",
       "      <th>2004</th>\n",
       "      <th>2005</th>\n",
       "      <th>2006</th>\n",
       "      <th>2007</th>\n",
       "      <th>2008</th>\n",
       "      <th>2009</th>\n",
       "      <th>2010</th>\n",
       "      <th>2011</th>\n",
       "    </tr>\n",
       "  </thead>\n",
       "  <tbody>\n",
       "    <tr>\n",
       "      <th>0</th>\n",
       "      <td>Abkhazia</td>\n",
       "      <td>NaN</td>\n",
       "      <td>NaN</td>\n",
       "      <td>NaN</td>\n",
       "      <td>NaN</td>\n",
       "      <td>NaN</td>\n",
       "      <td>NaN</td>\n",
       "      <td>NaN</td>\n",
       "      <td>NaN</td>\n",
       "      <td>NaN</td>\n",
       "      <td>...</td>\n",
       "      <td>NaN</td>\n",
       "      <td>NaN</td>\n",
       "      <td>NaN</td>\n",
       "      <td>NaN</td>\n",
       "      <td>NaN</td>\n",
       "      <td>NaN</td>\n",
       "      <td>NaN</td>\n",
       "      <td>NaN</td>\n",
       "      <td>NaN</td>\n",
       "      <td>NaN</td>\n",
       "    </tr>\n",
       "    <tr>\n",
       "      <th>1</th>\n",
       "      <td>Afghanistan</td>\n",
       "      <td>4.453443</td>\n",
       "      <td>4.878051</td>\n",
       "      <td>9.171601</td>\n",
       "      <td>8.888893</td>\n",
       "      <td>11.258279</td>\n",
       "      <td>8.571429</td>\n",
       "      <td>6.772908</td>\n",
       "      <td>8.899677</td>\n",
       "      <td>10.094637</td>\n",
       "      <td>...</td>\n",
       "      <td>32.438501</td>\n",
       "      <td>42.2955</td>\n",
       "      <td>32.93117</td>\n",
       "      <td>30.550988</td>\n",
       "      <td>27.640178</td>\n",
       "      <td>22.926131</td>\n",
       "      <td>26.67612</td>\n",
       "      <td>22.860093</td>\n",
       "      <td>20.124519</td>\n",
       "      <td>18.106142</td>\n",
       "    </tr>\n",
       "  </tbody>\n",
       "</table>\n",
       "<p>2 rows × 52 columns</p>\n",
       "</div>"
      ],
      "text/plain": [
       "  Exports of goods and services (% of GDP)      1961      1962      1963  \\\n",
       "0                                 Abkhazia       NaN       NaN       NaN   \n",
       "1                              Afghanistan  4.453443  4.878051  9.171601   \n",
       "\n",
       "       1964       1965      1966      1967      1968       1969    ...      \\\n",
       "0       NaN        NaN       NaN       NaN       NaN        NaN    ...       \n",
       "1  8.888893  11.258279  8.571429  6.772908  8.899677  10.094637    ...       \n",
       "\n",
       "        2002     2003      2004       2005       2006       2007      2008  \\\n",
       "0        NaN      NaN       NaN        NaN        NaN        NaN       NaN   \n",
       "1  32.438501  42.2955  32.93117  30.550988  27.640178  22.926131  26.67612   \n",
       "\n",
       "        2009       2010       2011  \n",
       "0        NaN        NaN        NaN  \n",
       "1  22.860093  20.124519  18.106142  \n",
       "\n",
       "[2 rows x 52 columns]"
      ]
     },
     "execution_count": 30,
     "metadata": {},
     "output_type": "execute_result"
    }
   ],
   "source": [
    "exports.head(2)"
   ]
  },
  {
   "cell_type": "code",
   "execution_count": 31,
   "metadata": {},
   "outputs": [],
   "source": [
    "exports = exports.set_index(\"Exports of goods and services (% of GDP)\")"
   ]
  },
  {
   "cell_type": "code",
   "execution_count": 32,
   "metadata": {},
   "outputs": [],
   "source": [
    "# Vamos renomear todas as colunas da tabela exports para evitar colisão de nomes\n",
    "exports = exports.rename(index=str, columns=lambda column: \"exports_\" + column)"
   ]
  },
  {
   "cell_type": "code",
   "execution_count": 33,
   "metadata": {},
   "outputs": [],
   "source": [
    "data_exp = data.join(exports, how=\"inner\")"
   ]
  },
  {
   "cell_type": "code",
   "execution_count": 34,
   "metadata": {},
   "outputs": [
    {
     "data": {
      "text/html": [
       "<div>\n",
       "<style scoped>\n",
       "    .dataframe tbody tr th:only-of-type {\n",
       "        vertical-align: middle;\n",
       "    }\n",
       "\n",
       "    .dataframe tbody tr th {\n",
       "        vertical-align: top;\n",
       "    }\n",
       "\n",
       "    .dataframe thead th {\n",
       "        text-align: right;\n",
       "    }\n",
       "</style>\n",
       "<table border=\"1\" class=\"dataframe\">\n",
       "  <thead>\n",
       "    <tr style=\"text-align: right;\">\n",
       "      <th></th>\n",
       "      <th>2010_co2</th>\n",
       "      <th>2010_income</th>\n",
       "      <th>region</th>\n",
       "      <th>landlocked</th>\n",
       "      <th>2010_income_ordinal</th>\n",
       "      <th>exports_1961</th>\n",
       "      <th>exports_1962</th>\n",
       "      <th>exports_1963</th>\n",
       "      <th>exports_1964</th>\n",
       "      <th>exports_1965</th>\n",
       "      <th>...</th>\n",
       "      <th>exports_2002</th>\n",
       "      <th>exports_2003</th>\n",
       "      <th>exports_2004</th>\n",
       "      <th>exports_2005</th>\n",
       "      <th>exports_2006</th>\n",
       "      <th>exports_2007</th>\n",
       "      <th>exports_2008</th>\n",
       "      <th>exports_2009</th>\n",
       "      <th>exports_2010</th>\n",
       "      <th>exports_2011</th>\n",
       "    </tr>\n",
       "  </thead>\n",
       "  <tbody>\n",
       "    <tr>\n",
       "      <th>Albania</th>\n",
       "      <td>1.336544</td>\n",
       "      <td>9374.0</td>\n",
       "      <td>europe_east</td>\n",
       "      <td>0</td>\n",
       "      <td>(504.648, 13367.2]</td>\n",
       "      <td>NaN</td>\n",
       "      <td>NaN</td>\n",
       "      <td>NaN</td>\n",
       "      <td>NaN</td>\n",
       "      <td>NaN</td>\n",
       "      <td>...</td>\n",
       "      <td>20.419307</td>\n",
       "      <td>20.619399</td>\n",
       "      <td>21.542118</td>\n",
       "      <td>22.273069</td>\n",
       "      <td>25.090526</td>\n",
       "      <td>28.777169</td>\n",
       "      <td>29.511318</td>\n",
       "      <td>28.411549</td>\n",
       "      <td>32.427471</td>\n",
       "      <td>33.800932</td>\n",
       "    </tr>\n",
       "    <tr>\n",
       "      <th>Algeria</th>\n",
       "      <td>3.480977</td>\n",
       "      <td>12494.0</td>\n",
       "      <td>africa_north</td>\n",
       "      <td>0</td>\n",
       "      <td>(504.648, 13367.2]</td>\n",
       "      <td>46.244557</td>\n",
       "      <td>19.793872</td>\n",
       "      <td>24.684682</td>\n",
       "      <td>25.084059</td>\n",
       "      <td>22.603944</td>\n",
       "      <td>...</td>\n",
       "      <td>35.076150</td>\n",
       "      <td>38.266470</td>\n",
       "      <td>40.071885</td>\n",
       "      <td>47.646353</td>\n",
       "      <td>48.607848</td>\n",
       "      <td>46.609494</td>\n",
       "      <td>46.273658</td>\n",
       "      <td>29.289305</td>\n",
       "      <td>30.830405</td>\n",
       "      <td>NaN</td>\n",
       "    </tr>\n",
       "    <tr>\n",
       "      <th>Angola</th>\n",
       "      <td>1.593918</td>\n",
       "      <td>7047.0</td>\n",
       "      <td>africa_sub_saharan</td>\n",
       "      <td>0</td>\n",
       "      <td>(504.648, 13367.2]</td>\n",
       "      <td>NaN</td>\n",
       "      <td>NaN</td>\n",
       "      <td>NaN</td>\n",
       "      <td>NaN</td>\n",
       "      <td>NaN</td>\n",
       "      <td>...</td>\n",
       "      <td>74.953839</td>\n",
       "      <td>69.569978</td>\n",
       "      <td>69.686683</td>\n",
       "      <td>86.017538</td>\n",
       "      <td>79.837278</td>\n",
       "      <td>76.397484</td>\n",
       "      <td>78.098523</td>\n",
       "      <td>55.055275</td>\n",
       "      <td>62.413106</td>\n",
       "      <td>64.976975</td>\n",
       "    </tr>\n",
       "  </tbody>\n",
       "</table>\n",
       "<p>3 rows × 56 columns</p>\n",
       "</div>"
      ],
      "text/plain": [
       "         2010_co2  2010_income              region  landlocked  \\\n",
       "Albania  1.336544       9374.0         europe_east           0   \n",
       "Algeria  3.480977      12494.0        africa_north           0   \n",
       "Angola   1.593918       7047.0  africa_sub_saharan           0   \n",
       "\n",
       "        2010_income_ordinal  exports_1961  exports_1962  exports_1963  \\\n",
       "Albania  (504.648, 13367.2]           NaN           NaN           NaN   \n",
       "Algeria  (504.648, 13367.2]     46.244557     19.793872     24.684682   \n",
       "Angola   (504.648, 13367.2]           NaN           NaN           NaN   \n",
       "\n",
       "         exports_1964  exports_1965      ...       exports_2002  exports_2003  \\\n",
       "Albania           NaN           NaN      ...          20.419307     20.619399   \n",
       "Algeria     25.084059     22.603944      ...          35.076150     38.266470   \n",
       "Angola            NaN           NaN      ...          74.953839     69.569978   \n",
       "\n",
       "         exports_2004  exports_2005  exports_2006  exports_2007  exports_2008  \\\n",
       "Albania     21.542118     22.273069     25.090526     28.777169     29.511318   \n",
       "Algeria     40.071885     47.646353     48.607848     46.609494     46.273658   \n",
       "Angola      69.686683     86.017538     79.837278     76.397484     78.098523   \n",
       "\n",
       "         exports_2009  exports_2010  exports_2011  \n",
       "Albania     28.411549     32.427471     33.800932  \n",
       "Algeria     29.289305     30.830405           NaN  \n",
       "Angola      55.055275     62.413106     64.976975  \n",
       "\n",
       "[3 rows x 56 columns]"
      ]
     },
     "execution_count": 34,
     "metadata": {},
     "output_type": "execute_result"
    }
   ],
   "source": [
    "data_exp.head(3)"
   ]
  },
  {
   "cell_type": "markdown",
   "metadata": {},
   "source": [
    "Temos 2 caminhos:\n",
    "\n",
    "1. Aplicar `pd.cut` para comparar os valores que estão na coluna `exports_2010_income` com os valores de `data[\"2010_income_ordinal\"]`, que já estão separados por faixas. Desta forma compararemos duas qualitativas ordinais\n",
    "2. Comparar as variáveis quantitativas `exports_2010`e `2010_income` diretamente"
   ]
  },
  {
   "cell_type": "markdown",
   "metadata": {},
   "source": [
    "** Caminho 1 - usando pd.cut**\n"
   ]
  },
  {
   "cell_type": "markdown",
   "metadata": {},
   "source": [
    "Vamos plotar um histograma da variável `exports_2010` para estudar seu comportamento. Pergunta de cultura geral: É normal que em alguns países as exportações sejam maiores que 100% ou mesmo 200% do GDP?"
   ]
  },
  {
   "cell_type": "code",
   "execution_count": 35,
   "metadata": {},
   "outputs": [
    {
     "data": {
      "text/plain": [
       "<matplotlib.axes._subplots.AxesSubplot at 0x1a18bd3e48>"
      ]
     },
     "execution_count": 35,
     "metadata": {},
     "output_type": "execute_result"
    },
    {
     "data": {
      "image/png": "[encoded data removed]",
      "text/plain": [
       "<Figure size 432x288 with 1 Axes>"
      ]
     },
     "metadata": {},
     "output_type": "display_data"
    }
   ],
   "source": [
    "data_exp[\"exports_2010\"].plot.hist()"
   ]
  },
  {
   "cell_type": "markdown",
   "metadata": {},
   "source": [
    "A coluna `exports_2010` tem vários valores nulos que posterioremente vão causar problemas. Podemos verificar isto usando o método `isnull()` seguido de `any()` abaixo:"
   ]
  },
  {
   "cell_type": "code",
   "execution_count": 36,
   "metadata": {},
   "outputs": [
    {
     "data": {
      "text/plain": [
       "True"
      ]
     },
     "execution_count": 36,
     "metadata": {},
     "output_type": "execute_result"
    }
   ],
   "source": [
    "data_exp[\"exports_2010\"].isnull().any()"
   ]
  },
  {
   "cell_type": "markdown",
   "metadata": {},
   "source": [
    "A filtragem abaixo cria o *dataframe*  `data_exp_notnull`, ou `denn`, que contém só os valores não nulos"
   ]
  },
  {
   "cell_type": "code",
   "execution_count": 37,
   "metadata": {},
   "outputs": [],
   "source": [
    "data_exp_notnull = data_exp[~data_exp[\"exports_2010\"].isnull()]"
   ]
  },
  {
   "cell_type": "code",
   "execution_count": 38,
   "metadata": {},
   "outputs": [],
   "source": [
    "denn= data_exp_notnull # guardando numa variável menor Data Exp Not Null: denn"
   ]
  },
  {
   "cell_type": "markdown",
   "metadata": {},
   "source": [
    "Vamos segmentar  a coluna de exportações em 8 faixas"
   ]
  },
  {
   "cell_type": "code",
   "execution_count": 39,
   "metadata": {},
   "outputs": [],
   "source": [
    "exports_2010_ordinal = pd.cut(denn[\"exports_2010\"], bins=8)"
   ]
  },
  {
   "cell_type": "markdown",
   "metadata": {},
   "source": [
    "Finalmente tracamos o *crosstab*, ou tabela cruzada, contando as ocorrências conjuntas de renda e porcentual de GDP em exportações "
   ]
  },
  {
   "cell_type": "code",
   "execution_count": 40,
   "metadata": {},
   "outputs": [],
   "source": [
    "exports_vs_income_ordinal_ct = pd.crosstab(index=denn[\"2010_income_ordinal\"], columns = exports_2010_ordinal)"
   ]
  },
  {
   "cell_type": "code",
   "execution_count": 41,
   "metadata": {},
   "outputs": [
    {
     "data": {
      "text/html": [
       "<div>\n",
       "<style scoped>\n",
       "    .dataframe tbody tr th:only-of-type {\n",
       "        vertical-align: middle;\n",
       "    }\n",
       "\n",
       "    .dataframe tbody tr th {\n",
       "        vertical-align: top;\n",
       "    }\n",
       "\n",
       "    .dataframe thead th {\n",
       "        text-align: right;\n",
       "    }\n",
       "</style>\n",
       "<table border=\"1\" class=\"dataframe\">\n",
       "  <thead>\n",
       "    <tr style=\"text-align: right;\">\n",
       "      <th>exports_2010</th>\n",
       "      <th>(5.922, 32.726]</th>\n",
       "      <th>(32.726, 59.316]</th>\n",
       "      <th>(59.316, 85.907]</th>\n",
       "      <th>(85.907, 112.498]</th>\n",
       "      <th>(165.68, 192.271]</th>\n",
       "      <th>(192.271, 218.862]</th>\n",
       "    </tr>\n",
       "    <tr>\n",
       "      <th>2010_income_ordinal</th>\n",
       "      <th></th>\n",
       "      <th></th>\n",
       "      <th></th>\n",
       "      <th></th>\n",
       "      <th></th>\n",
       "      <th></th>\n",
       "    </tr>\n",
       "  </thead>\n",
       "  <tbody>\n",
       "    <tr>\n",
       "      <th>(504.648, 13367.2]</th>\n",
       "      <td>42</td>\n",
       "      <td>7</td>\n",
       "      <td>35</td>\n",
       "      <td>0</td>\n",
       "      <td>0</td>\n",
       "      <td>2</td>\n",
       "    </tr>\n",
       "    <tr>\n",
       "      <th>(13367.2, 26102.4]</th>\n",
       "      <td>10</td>\n",
       "      <td>5</td>\n",
       "      <td>13</td>\n",
       "      <td>0</td>\n",
       "      <td>0</td>\n",
       "      <td>2</td>\n",
       "    </tr>\n",
       "    <tr>\n",
       "      <th>(38837.6, 51572.8]</th>\n",
       "      <td>8</td>\n",
       "      <td>2</td>\n",
       "      <td>4</td>\n",
       "      <td>0</td>\n",
       "      <td>0</td>\n",
       "      <td>1</td>\n",
       "    </tr>\n",
       "    <tr>\n",
       "      <th>(64308.0, 77043.2]</th>\n",
       "      <td>3</td>\n",
       "      <td>2</td>\n",
       "      <td>6</td>\n",
       "      <td>0</td>\n",
       "      <td>1</td>\n",
       "      <td>1</td>\n",
       "    </tr>\n",
       "    <tr>\n",
       "      <th>(26102.4, 38837.6]</th>\n",
       "      <td>0</td>\n",
       "      <td>1</td>\n",
       "      <td>2</td>\n",
       "      <td>0</td>\n",
       "      <td>0</td>\n",
       "      <td>0</td>\n",
       "    </tr>\n",
       "    <tr>\n",
       "      <th>(89778.4, 102513.6]</th>\n",
       "      <td>0</td>\n",
       "      <td>2</td>\n",
       "      <td>0</td>\n",
       "      <td>0</td>\n",
       "      <td>1</td>\n",
       "      <td>0</td>\n",
       "    </tr>\n",
       "    <tr>\n",
       "      <th>(51572.8, 64308.0]</th>\n",
       "      <td>0</td>\n",
       "      <td>0</td>\n",
       "      <td>0</td>\n",
       "      <td>1</td>\n",
       "      <td>0</td>\n",
       "      <td>0</td>\n",
       "    </tr>\n",
       "  </tbody>\n",
       "</table>\n",
       "</div>"
      ],
      "text/plain": [
       "exports_2010         (5.922, 32.726]  (32.726, 59.316]  (59.316, 85.907]  \\\n",
       "2010_income_ordinal                                                        \n",
       "(504.648, 13367.2]                42                 7                35   \n",
       "(13367.2, 26102.4]                10                 5                13   \n",
       "(38837.6, 51572.8]                 8                 2                 4   \n",
       "(64308.0, 77043.2]                 3                 2                 6   \n",
       "(26102.4, 38837.6]                 0                 1                 2   \n",
       "(89778.4, 102513.6]                0                 2                 0   \n",
       "(51572.8, 64308.0]                 0                 0                 0   \n",
       "\n",
       "exports_2010         (85.907, 112.498]  (165.68, 192.271]  (192.271, 218.862]  \n",
       "2010_income_ordinal                                                            \n",
       "(504.648, 13367.2]                   0                  0                   2  \n",
       "(13367.2, 26102.4]                   0                  0                   2  \n",
       "(38837.6, 51572.8]                   0                  0                   1  \n",
       "(64308.0, 77043.2]                   0                  1                   1  \n",
       "(26102.4, 38837.6]                   0                  0                   0  \n",
       "(89778.4, 102513.6]                  0                  1                   0  \n",
       "(51572.8, 64308.0]                   1                  0                   0  "
      ]
     },
     "execution_count": 41,
     "metadata": {},
     "output_type": "execute_result"
    }
   ],
   "source": [
    "exports_vs_income_ordinal_ct"
   ]
  },
  {
   "cell_type": "markdown",
   "metadata": {},
   "source": [
    "se quisermos ver os valores relativos, precisaremos dividir cada ocorrência cruzada pelo total"
   ]
  },
  {
   "cell_type": "code",
   "execution_count": 42,
   "metadata": {},
   "outputs": [],
   "source": [
    "total = exports_vs_income_ordinal_ct.sum().sum()"
   ]
  },
  {
   "cell_type": "markdown",
   "metadata": {},
   "source": [
    "Dividindo teremos os valores fracionários das ocorrências"
   ]
  },
  {
   "cell_type": "code",
   "execution_count": 43,
   "metadata": {},
   "outputs": [
    {
     "data": {
      "text/html": [
       "<div>\n",
       "<style scoped>\n",
       "    .dataframe tbody tr th:only-of-type {\n",
       "        vertical-align: middle;\n",
       "    }\n",
       "\n",
       "    .dataframe tbody tr th {\n",
       "        vertical-align: top;\n",
       "    }\n",
       "\n",
       "    .dataframe thead th {\n",
       "        text-align: right;\n",
       "    }\n",
       "</style>\n",
       "<table border=\"1\" class=\"dataframe\">\n",
       "  <thead>\n",
       "    <tr style=\"text-align: right;\">\n",
       "      <th>exports_2010</th>\n",
       "      <th>(5.922, 32.726]</th>\n",
       "      <th>(32.726, 59.316]</th>\n",
       "      <th>(59.316, 85.907]</th>\n",
       "      <th>(85.907, 112.498]</th>\n",
       "      <th>(165.68, 192.271]</th>\n",
       "      <th>(192.271, 218.862]</th>\n",
       "    </tr>\n",
       "    <tr>\n",
       "      <th>2010_income_ordinal</th>\n",
       "      <th></th>\n",
       "      <th></th>\n",
       "      <th></th>\n",
       "      <th></th>\n",
       "      <th></th>\n",
       "      <th></th>\n",
       "    </tr>\n",
       "  </thead>\n",
       "  <tbody>\n",
       "    <tr>\n",
       "      <th>(504.648, 13367.2]</th>\n",
       "      <td>0.278146</td>\n",
       "      <td>0.046358</td>\n",
       "      <td>0.231788</td>\n",
       "      <td>0.000000</td>\n",
       "      <td>0.000000</td>\n",
       "      <td>0.013245</td>\n",
       "    </tr>\n",
       "    <tr>\n",
       "      <th>(13367.2, 26102.4]</th>\n",
       "      <td>0.066225</td>\n",
       "      <td>0.033113</td>\n",
       "      <td>0.086093</td>\n",
       "      <td>0.000000</td>\n",
       "      <td>0.000000</td>\n",
       "      <td>0.013245</td>\n",
       "    </tr>\n",
       "    <tr>\n",
       "      <th>(38837.6, 51572.8]</th>\n",
       "      <td>0.052980</td>\n",
       "      <td>0.013245</td>\n",
       "      <td>0.026490</td>\n",
       "      <td>0.000000</td>\n",
       "      <td>0.000000</td>\n",
       "      <td>0.006623</td>\n",
       "    </tr>\n",
       "    <tr>\n",
       "      <th>(64308.0, 77043.2]</th>\n",
       "      <td>0.019868</td>\n",
       "      <td>0.013245</td>\n",
       "      <td>0.039735</td>\n",
       "      <td>0.000000</td>\n",
       "      <td>0.006623</td>\n",
       "      <td>0.006623</td>\n",
       "    </tr>\n",
       "    <tr>\n",
       "      <th>(26102.4, 38837.6]</th>\n",
       "      <td>0.000000</td>\n",
       "      <td>0.006623</td>\n",
       "      <td>0.013245</td>\n",
       "      <td>0.000000</td>\n",
       "      <td>0.000000</td>\n",
       "      <td>0.000000</td>\n",
       "    </tr>\n",
       "    <tr>\n",
       "      <th>(89778.4, 102513.6]</th>\n",
       "      <td>0.000000</td>\n",
       "      <td>0.013245</td>\n",
       "      <td>0.000000</td>\n",
       "      <td>0.000000</td>\n",
       "      <td>0.006623</td>\n",
       "      <td>0.000000</td>\n",
       "    </tr>\n",
       "    <tr>\n",
       "      <th>(51572.8, 64308.0]</th>\n",
       "      <td>0.000000</td>\n",
       "      <td>0.000000</td>\n",
       "      <td>0.000000</td>\n",
       "      <td>0.006623</td>\n",
       "      <td>0.000000</td>\n",
       "      <td>0.000000</td>\n",
       "    </tr>\n",
       "  </tbody>\n",
       "</table>\n",
       "</div>"
      ],
      "text/plain": [
       "exports_2010         (5.922, 32.726]  (32.726, 59.316]  (59.316, 85.907]  \\\n",
       "2010_income_ordinal                                                        \n",
       "(504.648, 13367.2]          0.278146          0.046358          0.231788   \n",
       "(13367.2, 26102.4]          0.066225          0.033113          0.086093   \n",
       "(38837.6, 51572.8]          0.052980          0.013245          0.026490   \n",
       "(64308.0, 77043.2]          0.019868          0.013245          0.039735   \n",
       "(26102.4, 38837.6]          0.000000          0.006623          0.013245   \n",
       "(89778.4, 102513.6]         0.000000          0.013245          0.000000   \n",
       "(51572.8, 64308.0]          0.000000          0.000000          0.000000   \n",
       "\n",
       "exports_2010         (85.907, 112.498]  (165.68, 192.271]  (192.271, 218.862]  \n",
       "2010_income_ordinal                                                            \n",
       "(504.648, 13367.2]            0.000000           0.000000            0.013245  \n",
       "(13367.2, 26102.4]            0.000000           0.000000            0.013245  \n",
       "(38837.6, 51572.8]            0.000000           0.000000            0.006623  \n",
       "(64308.0, 77043.2]            0.000000           0.006623            0.006623  \n",
       "(26102.4, 38837.6]            0.000000           0.000000            0.000000  \n",
       "(89778.4, 102513.6]           0.000000           0.006623            0.000000  \n",
       "(51572.8, 64308.0]            0.006623           0.000000            0.000000  "
      ]
     },
     "execution_count": 43,
     "metadata": {},
     "output_type": "execute_result"
    }
   ],
   "source": [
    "exports_vs_income_ordinal_ct/total"
   ]
  },
  {
   "cell_type": "markdown",
   "metadata": {},
   "source": [
    "Podemos também multiplicar por $100$ para que os valores estejam em percentuais"
   ]
  },
  {
   "cell_type": "code",
   "execution_count": 44,
   "metadata": {},
   "outputs": [],
   "source": [
    "percent = exports_vs_income_ordinal_ct/total*100\n"
   ]
  },
  {
   "cell_type": "code",
   "execution_count": 45,
   "metadata": {},
   "outputs": [
    {
     "data": {
      "text/html": [
       "<div>\n",
       "<style scoped>\n",
       "    .dataframe tbody tr th:only-of-type {\n",
       "        vertical-align: middle;\n",
       "    }\n",
       "\n",
       "    .dataframe tbody tr th {\n",
       "        vertical-align: top;\n",
       "    }\n",
       "\n",
       "    .dataframe thead th {\n",
       "        text-align: right;\n",
       "    }\n",
       "</style>\n",
       "<table border=\"1\" class=\"dataframe\">\n",
       "  <thead>\n",
       "    <tr style=\"text-align: right;\">\n",
       "      <th>exports_2010</th>\n",
       "      <th>(5.922, 32.726]</th>\n",
       "      <th>(32.726, 59.316]</th>\n",
       "      <th>(59.316, 85.907]</th>\n",
       "      <th>(85.907, 112.498]</th>\n",
       "      <th>(165.68, 192.271]</th>\n",
       "      <th>(192.271, 218.862]</th>\n",
       "    </tr>\n",
       "    <tr>\n",
       "      <th>2010_income_ordinal</th>\n",
       "      <th></th>\n",
       "      <th></th>\n",
       "      <th></th>\n",
       "      <th></th>\n",
       "      <th></th>\n",
       "      <th></th>\n",
       "    </tr>\n",
       "  </thead>\n",
       "  <tbody>\n",
       "    <tr>\n",
       "      <th>(504.648, 13367.2]</th>\n",
       "      <td>27.814570</td>\n",
       "      <td>4.635762</td>\n",
       "      <td>23.178808</td>\n",
       "      <td>0.0</td>\n",
       "      <td>0.0</td>\n",
       "      <td>1.324503</td>\n",
       "    </tr>\n",
       "    <tr>\n",
       "      <th>(13367.2, 26102.4]</th>\n",
       "      <td>6.622517</td>\n",
       "      <td>3.311258</td>\n",
       "      <td>8.609272</td>\n",
       "      <td>0.0</td>\n",
       "      <td>0.0</td>\n",
       "      <td>1.324503</td>\n",
       "    </tr>\n",
       "    <tr>\n",
       "      <th>(38837.6, 51572.8]</th>\n",
       "      <td>5.298013</td>\n",
       "      <td>1.324503</td>\n",
       "      <td>2.649007</td>\n",
       "      <td>0.0</td>\n",
       "      <td>0.0</td>\n",
       "      <td>0.662252</td>\n",
       "    </tr>\n",
       "  </tbody>\n",
       "</table>\n",
       "</div>"
      ],
      "text/plain": [
       "exports_2010         (5.922, 32.726]  (32.726, 59.316]  (59.316, 85.907]  \\\n",
       "2010_income_ordinal                                                        \n",
       "(504.648, 13367.2]         27.814570          4.635762         23.178808   \n",
       "(13367.2, 26102.4]          6.622517          3.311258          8.609272   \n",
       "(38837.6, 51572.8]          5.298013          1.324503          2.649007   \n",
       "\n",
       "exports_2010         (85.907, 112.498]  (165.68, 192.271]  (192.271, 218.862]  \n",
       "2010_income_ordinal                                                            \n",
       "(504.648, 13367.2]                 0.0                0.0            1.324503  \n",
       "(13367.2, 26102.4]                 0.0                0.0            1.324503  \n",
       "(38837.6, 51572.8]                 0.0                0.0            0.662252  "
      ]
     },
     "execution_count": 45,
     "metadata": {},
     "output_type": "execute_result"
    }
   ],
   "source": [
    "percent.head(3)"
   ]
  },
  {
   "cell_type": "code",
   "execution_count": 46,
   "metadata": {},
   "outputs": [
    {
     "data": {
      "text/plain": [
       "<matplotlib.axes._subplots.AxesSubplot at 0x1a18ef6e10>"
      ]
     },
     "execution_count": 46,
     "metadata": {},
     "output_type": "execute_result"
    },
    {
     "data": {
      "image/png": "[encoded data removed]",
      "text/plain": [
       "<Figure size 432x288 with 1 Axes>"
      ]
     },
     "metadata": {},
     "output_type": "display_data"
    }
   ],
   "source": [
    "percent.plot.bar()"
   ]
  },
  {
   "cell_type": "markdown",
   "metadata": {},
   "source": [
    "Podemos transpor o dataframe para permutar os agrupamentos. Note o uso do operador \"T\""
   ]
  },
  {
   "cell_type": "code",
   "execution_count": 47,
   "metadata": {},
   "outputs": [
    {
     "data": {
      "text/plain": [
       "<matplotlib.axes._subplots.AxesSubplot at 0x1a18f16ba8>"
      ]
     },
     "execution_count": 47,
     "metadata": {},
     "output_type": "execute_result"
    },
    {
     "data": {
      "image/png": "[encoded data removed]",
      "text/plain": [
       "<Figure size 432x288 with 1 Axes>"
      ]
     },
     "metadata": {},
     "output_type": "display_data"
    }
   ],
   "source": [
    "percent.T.plot.bar()"
   ]
  },
  {
   "cell_type": "markdown",
   "metadata": {},
   "source": [
    "**Caminho 2 - usando scatterplot **\n",
    "\n",
    "Para esta abordagem não é necessário converter nenhuma das variáveis em qualitativa ordinal:"
   ]
  },
  {
   "cell_type": "code",
   "execution_count": 48,
   "metadata": {},
   "outputs": [
    {
     "data": {
      "text/plain": [
       "<matplotlib.axes._subplots.AxesSubplot at 0x1a18e17fd0>"
      ]
     },
     "execution_count": 48,
     "metadata": {},
     "output_type": "execute_result"
    },
    {
     "data": {
      "image/png": "[encoded data removed]",
      "text/plain": [
       "<Figure size 432x288 with 1 Axes>"
      ]
     },
     "metadata": {},
     "output_type": "display_data"
    }
   ],
   "source": [
    "data_exp.plot.scatter(x=\"2010_income\", y=\"exports_2010\")"
   ]
  },
  {
   "cell_type": "markdown",
   "metadata": {},
   "source": [
    "Podemos converter as escalas para logaritmicas:"
   ]
  },
  {
   "cell_type": "code",
   "execution_count": 49,
   "metadata": {},
   "outputs": [
    {
     "data": {
      "text/plain": [
       "<matplotlib.axes._subplots.AxesSubplot at 0x1a18bfd710>"
      ]
     },
     "execution_count": 49,
     "metadata": {},
     "output_type": "execute_result"
    },
    {
     "data": {
      "image/png": "[encoded data removed]",
      "text/plain": [
       "<Figure size 432x288 with 1 Axes>"
      ]
     },
     "metadata": {},
     "output_type": "display_data"
    }
   ],
   "source": [
    "data_exp.plot.scatter(x=\"2010_income\", y=\"exports_2010\", loglog=True)"
   ]
  },
  {
   "cell_type": "markdown",
   "metadata": {},
   "source": [
    "Os dados acima parecem indicar que há um aumento do percentual das exportações no GDP de um país à medida que o GDP per capita aumenta. Podemos verificar a **correlação** entre as variáveis"
   ]
  },
  {
   "cell_type": "code",
   "execution_count": 50,
   "metadata": {},
   "outputs": [
    {
     "data": {
      "text/plain": [
       "0.5025662576642945"
      ]
     },
     "execution_count": 50,
     "metadata": {},
     "output_type": "execute_result"
    }
   ],
   "source": [
    "data_exp[\"2010_income\"].corr(data_exp.exports_2010)\n"
   ]
  },
  {
   "cell_type": "markdown",
   "metadata": {},
   "source": [
    "O que estes valores indicam? Aguarde a aula 4"
   ]
  },
  {
   "cell_type": "code",
   "execution_count": null,
   "metadata": {},
   "outputs": [],
   "source": []
  },
  {
   "cell_type": "code",
   "execution_count": null,
   "metadata": {},
   "outputs": [],
   "source": []
  }
 ],
 "metadata": {
  "kernelspec": {
   "display_name": "Python 3",
   "language": "python",
   "name": "python3"
  },
  "language_info": {
   "codemirror_mode": {
    "name": "ipython",
    "version": 3
   },
   "file_extension": ".py",
   "mimetype": "text/x-python",
   "name": "python",
   "nbconvert_exporter": "python",
   "pygments_lexer": "ipython3",
   "version": "3.6.4"
  }
 },
 "nbformat": 4,
 "nbformat_minor": 2
}
