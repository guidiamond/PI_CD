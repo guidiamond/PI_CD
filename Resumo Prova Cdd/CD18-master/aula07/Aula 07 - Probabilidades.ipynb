{
 "cells": [
  {
   "cell_type": "markdown",
   "metadata": {},
   "source": [
    "# Aula 07 - Teorema de Bayes\n",
    "\n",
    "**Referência de Leitura:**\n",
    "1. MONTGOMERY, D. Estatística Aplicada e Probabilidade para Engenheiros. 6. ed. Seção 2.7\n",
    "\n",
    "**Hoje:**\n",
    "1. Conceito de Probabilidade\n",
    "4. Probabilidade Condicional\n",
    "3. Independência de eventos\n",
    "5. Teorema de Bayes. Simulação do problema de Monty Hall\n",
    "\n",
    "**Próxima aula:**\n",
    "1. Variáveis aleatórias e kickoff do Projeto 2"
   ]
  },
  {
   "cell_type": "markdown",
   "metadata": {},
   "source": [
    "Uma das ideias deste *notebook* é usarmos simulações para estudar melhor fenômenos probabilísticos. "
   ]
  },
  {
   "cell_type": "markdown",
   "metadata": {},
   "source": [
    "1) Monte a simulação de 1000 jogadas de um dado idôneo de 6 faces. Faça o histograma normalizado da frequência.\n",
    "\n",
    "    a) Olhando o gráfico, o que pode se dizer sobre as probabilidade de cada face?\n",
    "    \n",
    "    b) Discorra sobre o porque da probabilidade não ser exatamente igual à teórica."
   ]
  },
  {
   "cell_type": "code",
   "execution_count": 8,
   "metadata": {},
   "outputs": [],
   "source": [
    "%matplotlib inline\n",
    "\n",
    "#Bibliotecas necessárias\n",
    "from numpy.random import shuffle, randint\n",
    "import matplotlib.pyplot as plt\n",
    "import pandas as pd\n",
    "import random"
   ]
  },
  {
   "cell_type": "code",
   "execution_count": 15,
   "metadata": {},
   "outputs": [
    {
     "data": {
      "image/png": "[encoded data removed]",
      "text/plain": [
       "<matplotlib.figure.Figure at 0x1bcca0e6c50>"
      ]
     },
     "metadata": {},
     "output_type": "display_data"
    }
   ],
   "source": [
    "simulacao_dado = []\n",
    "\n",
    "for e in range(1000):\n",
    "    simulacao_dado.append(random.randint(0,6))\n",
    "\n",
    "df = pd.Series(simulacao_dado)\n",
    "df.plot(kind='hist', density=True);\n",
    "# data = {'jogada': simulacao_dado}\n",
    "# data[\"jogada\"].plot(kind='hist', density=True);"
   ]
  },
  {
   "cell_type": "markdown",
   "metadata": {},
   "source": [
    "2) Simule 10000 vezes o problema de Monty Hall¹, usar o seguinte algoritmo:\n",
    "\n",
    "* Zere um contador\n",
    "* Repetir 10000 vezes:\n",
    "    * crie uma lista com 2 cabras e um carro (simulando 3 portas).\n",
    "    * embaralhe (shuffle) a lista - vamos assumir que **a pessoa sempre escolhe a porta 1**.\n",
    "    * Se o carro estiver na porta 2:\n",
    "        * Abra a porta 3 (apague o 3o item).\n",
    "    * Se o carro estiver na porta 3:\n",
    "        * Abra a porta 2 (apague o 2o item).\n",
    "    * Caso contrário sorteie uma porta (2 ou 3) para para abrir (apagar).\n",
    "    \n",
    "    * Se na porta restante houver o carro, acrescente um no contador. ** Para simular o que aconteceria se trocássemos de porta**\n",
    "\n",
    "* Exibir quantas vezes em 10000, a porta restante tinha o carro.\n",
    "\n",
    "Compare o resultado numérico com o resultado analítico obtido via Teorema de Bayes.\n",
    "\n",
    "¹https://en.wikipedia.org/wiki/Monty_Hall_problem"
   ]
  },
  {
   "cell_type": "code",
   "execution_count": null,
   "metadata": {},
   "outputs": [],
   "source": []
  },
  {
   "cell_type": "markdown",
   "metadata": {},
   "source": [
    "### Para fazer depois"
   ]
  },
  {
   "cell_type": "markdown",
   "metadata": {},
   "source": [
    "3) Ampliando o espaço amostral para as possíveis jogadas de 2 dados, analise as seguintes situações:\n",
    "    \n",
    "    a) Jogando os dois dados ao mesmo tempo. Qual é a probabilidade de obter soma 7?\n",
    "    \n",
    "    b) Jogando um dado e depois o segundo dado. Qual é a probabilidade de obter soma 7 já sabendo o resultado do primeiro?"
   ]
  },
  {
   "cell_type": "code",
   "execution_count": null,
   "metadata": {},
   "outputs": [],
   "source": []
  }
 ],
 "metadata": {
  "anaconda-cloud": {},
  "kernelspec": {
   "display_name": "Python 3",
   "language": "python",
   "name": "python3"
  },
  "language_info": {
   "codemirror_mode": {
    "name": "ipython",
    "version": 3
   },
   "file_extension": ".py",
   "mimetype": "text/x-python",
   "name": "python",
   "nbconvert_exporter": "python",
   "pygments_lexer": "ipython3",
   "version": "3.6.4"
  }
 },
 "nbformat": 4,
 "nbformat_minor": 1
}
